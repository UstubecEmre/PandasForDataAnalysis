{
 "cells": [
  {
   "cell_type": "markdown",
   "id": "cfb76f5f",
   "metadata": {},
   "source": [
    "# IMDB Basic Analysis Using Pandas\n",
    "# 1. Business Understanding\n",
    "# 2. Data Understanding\n",
    "# 3. Data Preparation\n",
    "# 4. Modeling\n",
    "# 5. Evaluation\n",
    "# 6. Deployment"
   ]
  },
  {
   "cell_type": "code",
   "execution_count": 4,
   "id": "90c380fe",
   "metadata": {},
   "outputs": [],
   "source": [
    "# import necessary libraries\n",
    "import pandas as pd\n",
    "import numpy as np\n",
    "\n",
    "# set display_options\n",
    "pd.set_option(\"display.max_rows\", 500)\n",
    "pd.set_option(\"display.max_columns\", 500)\n",
    "pd.set_option(\"display.width\",500)"
   ]
  },
  {
   "cell_type": "code",
   "execution_count": null,
   "id": "43d8eeac",
   "metadata": {},
   "outputs": [
    {
     "name": "stdout",
     "output_type": "stream",
     "text": [
      "Dataset loads succesfully\n",
      "                                         Poster_Link                                   Series_Title Released_Year Certificate  Runtime                      Genre  IMDB_Rating                                           Overview  Meta_score              Director              Star1                 Star2              Star3             Star4  No_of_Votes        Gross\n",
      "0  https://m.media-amazon.com/images/M/MV5BMDFkYT...                       The Shawshank Redemption          1994           A  142 min                      Drama          9.3  Two imprisoned men bond over a number of years...        80.0        Frank Darabont        Tim Robbins        Morgan Freeman         Bob Gunton    William Sadler      2343110   28,341,469\n",
      "1  https://m.media-amazon.com/images/M/MV5BM2MyNj...                                  The Godfather          1972           A  175 min               Crime, Drama          9.2  An organized crime dynasty's aging patriarch t...       100.0  Francis Ford Coppola      Marlon Brando             Al Pacino         James Caan      Diane Keaton      1620367  134,966,411\n",
      "2  https://m.media-amazon.com/images/M/MV5BMTMxNT...                                The Dark Knight          2008          UA  152 min       Action, Crime, Drama          9.0  When the menace known as the Joker wreaks havo...        84.0     Christopher Nolan     Christian Bale          Heath Ledger      Aaron Eckhart     Michael Caine      2303232  534,858,444\n",
      "3  https://m.media-amazon.com/images/M/MV5BMWMwMG...                         The Godfather: Part II          1974           A  202 min               Crime, Drama          9.0  The early life and career of Vito Corleone in ...        90.0  Francis Ford Coppola          Al Pacino        Robert De Niro      Robert Duvall      Diane Keaton      1129952   57,300,000\n",
      "4  https://m.media-amazon.com/images/M/MV5BMWU4N2...                                   12 Angry Men          1957           U   96 min               Crime, Drama          9.0  A jury holdout attempts to prevent a miscarria...        96.0          Sidney Lumet        Henry Fonda           Lee J. Cobb      Martin Balsam      John Fiedler       689845    4,360,000\n",
      "5  https://m.media-amazon.com/images/M/MV5BNzA5ZD...  The Lord of the Rings: The Return of the King          2003           U  201 min   Action, Adventure, Drama          8.9  Gandalf and Aragorn lead the World of Men agai...        94.0         Peter Jackson        Elijah Wood       Viggo Mortensen       Ian McKellen     Orlando Bloom      1642758  377,845,905\n",
      "6  https://m.media-amazon.com/images/M/MV5BNGNhMD...                                   Pulp Fiction          1994           A  154 min               Crime, Drama          8.9  The lives of two mob hitmen, a boxer, a gangst...        94.0     Quentin Tarantino      John Travolta           Uma Thurman  Samuel L. Jackson      Bruce Willis      1826188  107,928,762\n",
      "7  https://m.media-amazon.com/images/M/MV5BNDE4OT...                               Schindler's List          1993           A  195 min  Biography, Drama, History          8.9  In German-occupied Poland during World War II,...        94.0      Steven Spielberg        Liam Neeson         Ralph Fiennes       Ben Kingsley  Caroline Goodall      1213505   96,898,818\n",
      "8  https://m.media-amazon.com/images/M/MV5BMjAxMz...                                      Inception          2010          UA  148 min  Action, Adventure, Sci-Fi          8.8  A thief who steals corporate secrets through t...        74.0     Christopher Nolan  Leonardo DiCaprio  Joseph Gordon-Levitt        Elliot Page      Ken Watanabe      2067042  292,576,195\n",
      "9  https://m.media-amazon.com/images/M/MV5BMmEzNT...                                     Fight Club          1999           A  139 min                      Drama          8.8  An insomniac office worker and a devil-may-car...        66.0         David Fincher          Brad Pitt         Edward Norton          Meat Loaf      Zach Grenier      1854740   37,030,102\n"
     ]
    }
   ],
   "source": [
    "# load dataset\n",
    "file_path = r\"D:\\PandasForDataAnalysis\\datasets\\imdb_top_1000.csv\"\n",
    "try:\n",
    "    df = pd.read_csv(file_path)\n",
    "    print(\"Dataset loads succesfully\")\n",
    "    print(df.head(10))\n",
    "except FileNotFoundError:\n",
    "    raise FileNotFoundError(\"Sorry, Dataset File Path Not Found.\")\n",
    "\n",
    "\n",
    "    "
   ]
  },
  {
   "cell_type": "code",
   "execution_count": 8,
   "id": "7fe2f7b1",
   "metadata": {},
   "outputs": [
    {
     "name": "stdout",
     "output_type": "stream",
     "text": [
      "************ First Five Rows ************\n",
      "\n",
      "                                         Poster_Link              Series_Title Released_Year Certificate  Runtime                 Genre  IMDB_Rating                                           Overview  Meta_score              Director           Star1           Star2          Star3           Star4  No_of_Votes        Gross\n",
      "0  https://m.media-amazon.com/images/M/MV5BMDFkYT...  The Shawshank Redemption          1994           A  142 min                 Drama          9.3  Two imprisoned men bond over a number of years...        80.0        Frank Darabont     Tim Robbins  Morgan Freeman     Bob Gunton  William Sadler      2343110   28,341,469\n",
      "1  https://m.media-amazon.com/images/M/MV5BM2MyNj...             The Godfather          1972           A  175 min          Crime, Drama          9.2  An organized crime dynasty's aging patriarch t...       100.0  Francis Ford Coppola   Marlon Brando       Al Pacino     James Caan    Diane Keaton      1620367  134,966,411\n",
      "2  https://m.media-amazon.com/images/M/MV5BMTMxNT...           The Dark Knight          2008          UA  152 min  Action, Crime, Drama          9.0  When the menace known as the Joker wreaks havo...        84.0     Christopher Nolan  Christian Bale    Heath Ledger  Aaron Eckhart   Michael Caine      2303232  534,858,444\n",
      "3  https://m.media-amazon.com/images/M/MV5BMWMwMG...    The Godfather: Part II          1974           A  202 min          Crime, Drama          9.0  The early life and career of Vito Corleone in ...        90.0  Francis Ford Coppola       Al Pacino  Robert De Niro  Robert Duvall    Diane Keaton      1129952   57,300,000\n",
      "4  https://m.media-amazon.com/images/M/MV5BMWU4N2...              12 Angry Men          1957           U   96 min          Crime, Drama          9.0  A jury holdout attempts to prevent a miscarria...        96.0          Sidney Lumet     Henry Fonda     Lee J. Cobb  Martin Balsam    John Fiedler       689845    4,360,000 \n",
      "\n",
      "************ Last Five Rows ************\n",
      "\n",
      "                                           Poster_Link            Series_Title Released_Year Certificate  Runtime                     Genre  IMDB_Rating                                           Overview  Meta_score          Director              Star1              Star2           Star3           Star4  No_of_Votes       Gross\n",
      "995  https://m.media-amazon.com/images/M/MV5BNGEwMT...  Breakfast at Tiffany's          1961           A  115 min    Comedy, Drama, Romance          7.6  A young New York socialite becomes interested ...        76.0     Blake Edwards     Audrey Hepburn     George Peppard   Patricia Neal     Buddy Ebsen       166544         NaN\n",
      "996  https://m.media-amazon.com/images/M/MV5BODk3Yj...                   Giant          1956           G  201 min            Drama, Western          7.6  Sprawling epic covering the life of a Texas ca...        84.0    George Stevens   Elizabeth Taylor        Rock Hudson      James Dean   Carroll Baker        34075         NaN\n",
      "997  https://m.media-amazon.com/images/M/MV5BM2U3Yz...   From Here to Eternity          1953      Passed  118 min       Drama, Romance, War          7.6  In Hawaii in 1941, a private is cruelly punish...        85.0    Fred Zinnemann     Burt Lancaster   Montgomery Clift    Deborah Kerr      Donna Reed        43374  30,500,000\n",
      "998  https://m.media-amazon.com/images/M/MV5BZTBmMj...                Lifeboat          1944         NaN   97 min                Drama, War          7.6  Several survivors of a torpedoed merchant ship...        78.0  Alfred Hitchcock  Tallulah Bankhead        John Hodiak   Walter Slezak  William Bendix        26471         NaN\n",
      "999  https://m.media-amazon.com/images/M/MV5BMTY5OD...            The 39 Steps          1935         NaN   86 min  Crime, Mystery, Thriller          7.6  A man in London tries to help a counter-espion...        93.0  Alfred Hitchcock       Robert Donat  Madeleine Carroll  Lucie Mannheim  Godfrey Tearle        51853         NaN \n",
      "\n",
      "\n",
      "\n",
      "********* Columns *********\n",
      "Index(['Poster_Link', 'Series_Title', 'Released_Year', 'Certificate', 'Runtime', 'Genre', 'IMDB_Rating', 'Overview', 'Meta_score', 'Director', 'Star1', 'Star2', 'Star3', 'Star4', 'No_of_Votes', 'Gross'], dtype='object')\n"
     ]
    }
   ],
   "source": [
    "# Dataset General Info\n",
    "\n",
    "# 1. First 5 rows\n",
    "first_five_rows = df.head(5)\n",
    "last_five_rows = df.tail(5)\n",
    "\n",
    "print(\"************ First Five Rows ************\\n\")\n",
    "print(first_five_rows,\"\\n\")\n",
    "print(\"************ Last Five Rows ************\\n\")\n",
    "print(last_five_rows,\"\\n\")\n",
    "print(\"\\n\")\n",
    "\n",
    "df_columns = df.columns\n",
    "print(\"********* Columns *********\")\n",
    "print(df_columns)"
   ]
  },
  {
   "cell_type": "code",
   "execution_count": 12,
   "id": "2754c7fb",
   "metadata": {},
   "outputs": [],
   "source": [
    "def dataset_overview(dataframe):\n",
    "    print(\"******************** Shape ********************\")\n",
    "    print(dataframe.shape)\n",
    "    print(\"******************** Info ********************\")\n",
    "    print(dataframe.info)\n",
    "    print(\"******************** Columns ********************\")\n",
    "    print(dataframe.columns)\n",
    "    print(\"******************** Describe ********************\")\n",
    "    print(dataframe.describe())\n",
    "    print(\"******************** Number of Rows ********************\")\n",
    "    print(dataframe.shape[0])\n",
    "    print(\"******************** Number of Columns ********************\")\n",
    "    print(dataframe.shape[1])"
   ]
  },
  {
   "cell_type": "code",
   "execution_count": 13,
   "id": "c5231265",
   "metadata": {},
   "outputs": [
    {
     "name": "stdout",
     "output_type": "stream",
     "text": [
      "******************** Shape ********************\n",
      "(1000, 16)\n",
      "******************** Info ********************\n",
      "<bound method DataFrame.info of                                            Poster_Link              Series_Title Released_Year Certificate  Runtime                     Genre  IMDB_Rating                                           Overview  Meta_score              Director              Star1              Star2           Star3           Star4  No_of_Votes        Gross\n",
      "0    https://m.media-amazon.com/images/M/MV5BMDFkYT...  The Shawshank Redemption          1994           A  142 min                     Drama          9.3  Two imprisoned men bond over a number of years...        80.0        Frank Darabont        Tim Robbins     Morgan Freeman      Bob Gunton  William Sadler      2343110   28,341,469\n",
      "1    https://m.media-amazon.com/images/M/MV5BM2MyNj...             The Godfather          1972           A  175 min              Crime, Drama          9.2  An organized crime dynasty's aging patriarch t...       100.0  Francis Ford Coppola      Marlon Brando          Al Pacino      James Caan    Diane Keaton      1620367  134,966,411\n",
      "2    https://m.media-amazon.com/images/M/MV5BMTMxNT...           The Dark Knight          2008          UA  152 min      Action, Crime, Drama          9.0  When the menace known as the Joker wreaks havo...        84.0     Christopher Nolan     Christian Bale       Heath Ledger   Aaron Eckhart   Michael Caine      2303232  534,858,444\n",
      "3    https://m.media-amazon.com/images/M/MV5BMWMwMG...    The Godfather: Part II          1974           A  202 min              Crime, Drama          9.0  The early life and career of Vito Corleone in ...        90.0  Francis Ford Coppola          Al Pacino     Robert De Niro   Robert Duvall    Diane Keaton      1129952   57,300,000\n",
      "4    https://m.media-amazon.com/images/M/MV5BMWU4N2...              12 Angry Men          1957           U   96 min              Crime, Drama          9.0  A jury holdout attempts to prevent a miscarria...        96.0          Sidney Lumet        Henry Fonda        Lee J. Cobb   Martin Balsam    John Fiedler       689845    4,360,000\n",
      "..                                                 ...                       ...           ...         ...      ...                       ...          ...                                                ...         ...                   ...                ...                ...             ...             ...          ...          ...\n",
      "995  https://m.media-amazon.com/images/M/MV5BNGEwMT...    Breakfast at Tiffany's          1961           A  115 min    Comedy, Drama, Romance          7.6  A young New York socialite becomes interested ...        76.0         Blake Edwards     Audrey Hepburn     George Peppard   Patricia Neal     Buddy Ebsen       166544          NaN\n",
      "996  https://m.media-amazon.com/images/M/MV5BODk3Yj...                     Giant          1956           G  201 min            Drama, Western          7.6  Sprawling epic covering the life of a Texas ca...        84.0        George Stevens   Elizabeth Taylor        Rock Hudson      James Dean   Carroll Baker        34075          NaN\n",
      "997  https://m.media-amazon.com/images/M/MV5BM2U3Yz...     From Here to Eternity          1953      Passed  118 min       Drama, Romance, War          7.6  In Hawaii in 1941, a private is cruelly punish...        85.0        Fred Zinnemann     Burt Lancaster   Montgomery Clift    Deborah Kerr      Donna Reed        43374   30,500,000\n",
      "998  https://m.media-amazon.com/images/M/MV5BZTBmMj...                  Lifeboat          1944         NaN   97 min                Drama, War          7.6  Several survivors of a torpedoed merchant ship...        78.0      Alfred Hitchcock  Tallulah Bankhead        John Hodiak   Walter Slezak  William Bendix        26471          NaN\n",
      "999  https://m.media-amazon.com/images/M/MV5BMTY5OD...              The 39 Steps          1935         NaN   86 min  Crime, Mystery, Thriller          7.6  A man in London tries to help a counter-espion...        93.0      Alfred Hitchcock       Robert Donat  Madeleine Carroll  Lucie Mannheim  Godfrey Tearle        51853          NaN\n",
      "\n",
      "[1000 rows x 16 columns]>\n",
      "******************** Columns ********************\n",
      "Index(['Poster_Link', 'Series_Title', 'Released_Year', 'Certificate', 'Runtime', 'Genre', 'IMDB_Rating', 'Overview', 'Meta_score', 'Director', 'Star1', 'Star2', 'Star3', 'Star4', 'No_of_Votes', 'Gross'], dtype='object')\n",
      "******************** Describe ********************\n",
      "       IMDB_Rating  Meta_score   No_of_Votes\n",
      "count  1000.000000  843.000000  1.000000e+03\n",
      "mean      7.949300   77.971530  2.736929e+05\n",
      "std       0.275491   12.376099  3.273727e+05\n",
      "min       7.600000   28.000000  2.508800e+04\n",
      "25%       7.700000   70.000000  5.552625e+04\n",
      "50%       7.900000   79.000000  1.385485e+05\n",
      "75%       8.100000   87.000000  3.741612e+05\n",
      "max       9.300000  100.000000  2.343110e+06\n",
      "******************** Number of Rows ********************\n",
      "1000\n",
      "******************** Number of Columns ********************\n",
      "16\n"
     ]
    }
   ],
   "source": [
    "# call the function\n",
    "dataset_overview(dataframe = df)"
   ]
  },
  {
   "cell_type": "code",
   "execution_count": 20,
   "id": "ff1e1513",
   "metadata": {},
   "outputs": [
    {
     "name": "stdout",
     "output_type": "stream",
     "text": [
      "Distribution of Genre\n",
      "\n"
     ]
    },
    {
     "data": {
      "application/vnd.microsoft.datawrangler.viewer.v0+json": {
       "columns": [
        {
         "name": "Genre",
         "rawType": "object",
         "type": "string"
        },
        {
         "name": "count",
         "rawType": "int64",
         "type": "integer"
        }
       ],
       "ref": "411a8897-09f9-4f2e-b50a-9e8713265c5c",
       "rows": [
        [
         "Drama",
         "85"
        ],
        [
         "Drama, Romance",
         "37"
        ],
        [
         "Comedy, Drama",
         "35"
        ],
        [
         "Comedy, Drama, Romance",
         "31"
        ],
        [
         "Action, Crime, Drama",
         "30"
        ],
        [
         "Biography, Drama, History",
         "28"
        ],
        [
         "Crime, Drama, Thriller",
         "28"
        ],
        [
         "Crime, Drama, Mystery",
         "27"
        ],
        [
         "Crime, Drama",
         "26"
        ],
        [
         "Animation, Adventure, Comedy",
         "24"
        ],
        [
         "Action, Adventure, Sci-Fi",
         "21"
        ],
        [
         "Biography, Crime, Drama",
         "16"
        ],
        [
         "Drama, War",
         "15"
        ],
        [
         "Comedy, Crime, Drama",
         "15"
        ],
        [
         "Action, Adventure, Drama",
         "14"
        ],
        [
         "Drama, Thriller",
         "14"
        ],
        [
         "Comedy",
         "13"
        ],
        [
         "Biography, Drama",
         "12"
        ],
        [
         "Animation, Action, Adventure",
         "11"
        ],
        [
         "Action, Adventure, Comedy",
         "10"
        ],
        [
         "Action, Crime, Thriller",
         "10"
        ],
        [
         "Animation, Adventure, Family",
         "9"
        ],
        [
         "Drama, Mystery, Thriller",
         "9"
        ],
        [
         "Mystery, Thriller",
         "9"
        ],
        [
         "Biography, Drama, Sport",
         "9"
        ],
        [
         "Adventure, Comedy, Drama",
         "8"
        ],
        [
         "Action, Biography, Drama",
         "7"
        ],
        [
         "Comedy, Drama, Family",
         "7"
        ],
        [
         "Biography, Drama, Music",
         "7"
        ],
        [
         "Animation, Adventure, Drama",
         "7"
        ],
        [
         "Adventure, Family, Fantasy",
         "7"
        ],
        [
         "Comedy, Romance",
         "7"
        ],
        [
         "Biography, Comedy, Drama",
         "7"
        ],
        [
         "Drama, Music, Romance",
         "7"
        ],
        [
         "Drama, Sci-Fi",
         "6"
        ],
        [
         "Drama, History, War",
         "6"
        ],
        [
         "Action, Adventure, Fantasy",
         "6"
        ],
        [
         "Adventure, Biography, Drama",
         "6"
        ],
        [
         "Comedy, Crime",
         "6"
        ],
        [
         "Drama, Mystery, Romance",
         "6"
        ],
        [
         "Drama, Music",
         "6"
        ],
        [
         "Drama, Sport",
         "6"
        ],
        [
         "Action, Comedy, Crime",
         "6"
        ],
        [
         "Adventure, Drama, Fantasy",
         "6"
        ],
        [
         "Crime, Drama, Romance",
         "5"
        ],
        [
         "Action, Adventure, Thriller",
         "5"
        ],
        [
         "Crime, Drama, Film-Noir",
         "5"
        ],
        [
         "Action, Drama",
         "5"
        ],
        [
         "Animation, Family, Fantasy",
         "5"
        ],
        [
         "Action, Adventure",
         "5"
        ]
       ],
       "shape": {
        "columns": 1,
        "rows": 202
       }
      },
      "text/plain": [
       "Genre\n",
       "Drama                            85\n",
       "Drama, Romance                   37\n",
       "Comedy, Drama                    35\n",
       "Comedy, Drama, Romance           31\n",
       "Action, Crime, Drama             30\n",
       "Biography, Drama, History        28\n",
       "Crime, Drama, Thriller           28\n",
       "Crime, Drama, Mystery            27\n",
       "Crime, Drama                     26\n",
       "Animation, Adventure, Comedy     24\n",
       "Action, Adventure, Sci-Fi        21\n",
       "Biography, Crime, Drama          16\n",
       "Drama, War                       15\n",
       "Comedy, Crime, Drama             15\n",
       "Action, Adventure, Drama         14\n",
       "Drama, Thriller                  14\n",
       "Comedy                           13\n",
       "Biography, Drama                 12\n",
       "Animation, Action, Adventure     11\n",
       "Action, Adventure, Comedy        10\n",
       "Action, Crime, Thriller          10\n",
       "Animation, Adventure, Family      9\n",
       "Drama, Mystery, Thriller          9\n",
       "Mystery, Thriller                 9\n",
       "Biography, Drama, Sport           9\n",
       "Adventure, Comedy, Drama          8\n",
       "Action, Biography, Drama          7\n",
       "Comedy, Drama, Family             7\n",
       "Biography, Drama, Music           7\n",
       "Animation, Adventure, Drama       7\n",
       "Adventure, Family, Fantasy        7\n",
       "Comedy, Romance                   7\n",
       "Biography, Comedy, Drama          7\n",
       "Drama, Music, Romance             7\n",
       "Drama, Sci-Fi                     6\n",
       "Drama, History, War               6\n",
       "Action, Adventure, Fantasy        6\n",
       "Adventure, Biography, Drama       6\n",
       "Comedy, Crime                     6\n",
       "Drama, Mystery, Romance           6\n",
       "Drama, Music                      6\n",
       "Drama, Sport                      6\n",
       "Action, Comedy, Crime             6\n",
       "Adventure, Drama, Fantasy         6\n",
       "Crime, Drama, Romance             5\n",
       "Action, Adventure, Thriller       5\n",
       "Crime, Drama, Film-Noir           5\n",
       "Action, Drama                     5\n",
       "Animation, Family, Fantasy        5\n",
       "Action, Adventure                 5\n",
       "Action, Drama, Mystery            5\n",
       "Drama, Western                    5\n",
       "Drama, Mystery, Sci-Fi            5\n",
       "Comedy, Drama, War                5\n",
       "Adventure, Drama, History         4\n",
       "Animation, Drama, Fantasy         4\n",
       "Drama, Romance, War               4\n",
       "Drama, Sci-Fi, Thriller           4\n",
       "Drama, Horror, Sci-Fi             4\n",
       "Horror, Mystery, Thriller         4\n",
       "Action, Drama, Thriller           4\n",
       "Drama, Horror                     4\n",
       "Animation, Drama, Family          4\n",
       "Comedy, Drama, Fantasy            4\n",
       "Biography, Drama, Family          4\n",
       "Drama, Horror, Thriller           4\n",
       "Adventure, Drama, Western         4\n",
       "Adventure, Drama                  4\n",
       "Adventure, Drama, Thriller        4\n",
       "Drama, Mystery                    4\n",
       "Western                           4\n",
       "Drama, History, Thriller          4\n",
       "Drama, Fantasy, Romance           4\n",
       "Drama, Film-Noir                  4\n",
       "Action, Drama, War                3\n",
       "Drama, Family                     3\n",
       "Action, Sci-Fi                    3\n",
       "Crime, Drama, Fantasy             3\n",
       "Drama, Music, Musical             3\n",
       "Comedy, Drama, Musical            3\n",
       "Drama, Family, Musical            3\n",
       "Biography, Drama, Thriller        3\n",
       "Crime, Mystery, Thriller          3\n",
       "Drama, Thriller, War              3\n",
       "Drama, History                    3\n",
       "Comedy, Drama, Music              3\n",
       "Crime, Thriller                   3\n",
       "Action, Comedy, Fantasy           3\n",
       "Comedy, Fantasy, Romance          3\n",
       "Action, Biography, Crime          3\n",
       "Action, Drama, History            3\n",
       "Comedy, Drama, Thriller           3\n",
       "Adventure, Drama, Sci-Fi          3\n",
       "Animation, Action, Crime          3\n",
       "Action, Mystery, Thriller         3\n",
       "Adventure, Comedy, Family         3\n",
       "Action, Thriller                  3\n",
       "Adventure, Comedy, Sci-Fi         3\n",
       "Adventure, Drama, Romance         2\n",
       "Animation, Biography, Drama       2\n",
       "Drama, Fantasy, Mystery           2\n",
       "Mystery, Sci-Fi, Thriller         2\n",
       "Drama, Film-Noir, Mystery         2\n",
       "Action, Drama, Western            2\n",
       "Comedy, Horror                    2\n",
       "Action, Sci-Fi, Thriller          2\n",
       "Drama, Fantasy, Music             2\n",
       "Comedy, Music, Musical            2\n",
       "Drama, Romance, Thriller          2\n",
       "Action, Adventure, Western        2\n",
       "Action, Drama, Sci-Fi             2\n",
       "Adventure, Drama, War             2\n",
       "Drama, Romance, Sci-Fi            2\n",
       "Drama, Family, Sport              2\n",
       "Drama, Film-Noir, Romance         2\n",
       "Adventure, Sci-Fi                 2\n",
       "Horror, Sci-Fi                    2\n",
       "Horror, Thriller                  2\n",
       "Drama, Mystery, War               2\n",
       "Action, Adventure, War            2\n",
       "Drama, History, Romance           2\n",
       "Horror                            2\n",
       "Action, Comedy, Romance           2\n",
       "Adventure, Comedy, Fantasy        2\n",
       "Comedy, War                       2\n",
       "Adventure, Comedy, Crime          2\n",
       "Animation, Comedy, Drama          2\n",
       "Drama, Family, Fantasy            2\n",
       "Comedy, Family                    2\n",
       "Adventure, Fantasy                2\n",
       "Animation, Biography, Crime       1\n",
       "Crime, Drama, History             1\n",
       "Adventure, Biography, Crime       1\n",
       "Fantasy, Horror                   1\n",
       "Adventure, Horror, Sci-Fi         1\n",
       "Drama, History, Mystery           1\n",
       "Action, Comedy, Mystery           1\n",
       "Action, Crime, Mystery            1\n",
       "Family, Sci-Fi                    1\n",
       "Drama, War, Western               1\n",
       "Animation, Drama, Romance         1\n",
       "Action, Adventure, Mystery        1\n",
       "Action, Adventure, Crime          1\n",
       "Animation, Comedy, Crime          1\n",
       "Drama, Horror, Mystery            1\n",
       "Comedy, Western                   1\n",
       "Action, Adventure, Romance        1\n",
       "Animation, Comedy, Fantasy        1\n",
       "Animation, Action, Fantasy        1\n",
       "Drama, History, Music             1\n",
       "Adventure, History, War           1\n",
       "Biography, Drama, Romance         1\n",
       "Action, Adventure, Family         1\n",
       "Comedy, Family, Romance           1\n",
       "Film-Noir, Thriller               1\n",
       "Adventure, Comedy, Film-Noir      1\n",
       "Comedy, Family, Fantasy           1\n",
       "Thriller                          1\n",
       "Family, Fantasy, Musical          1\n",
       "Animation, Sci-Fi                 1\n",
       "Comedy, Musical, War              1\n",
       "Animation, Action, Drama          1\n",
       "Crime, Film-Noir, Mystery         1\n",
       "Crime, Film-Noir, Thriller        1\n",
       "Horror, Mystery, Sci-Fi           1\n",
       "Animation, Adventure, Fantasy     1\n",
       "Comedy, Crime, Sport              1\n",
       "Comedy, Crime, Romance            1\n",
       "Adventure, Drama, Musical         1\n",
       "Drama, Fantasy, History           1\n",
       "Comedy, Music, Romance            1\n",
       "Drama, Fantasy, War               1\n",
       "Action, Drama, Sport              1\n",
       "Comedy, Musical, Romance          1\n",
       "Mystery, Romance, Thriller        1\n",
       "Adventure, Mystery, Thriller      1\n",
       "Crime, Drama, Sci-Fi              1\n",
       "Crime, Drama, Music               1\n",
       "Drama, Fantasy, Horror            1\n",
       "Drama, Musical                    1\n",
       "Animation, Drama, War             1\n",
       "Drama, Fantasy                    1\n",
       "Film-Noir, Mystery, Thriller      1\n",
       "Fantasy, Horror, Mystery          1\n",
       "Action, Adventure, History        1\n",
       "Drama, Thriller, Western          1\n",
       "Comedy, Mystery, Romance          1\n",
       "Biography, Drama, War             1\n",
       "Action, Adventure, Biography      1\n",
       "Action, Adventure, Horror         1\n",
       "Comedy, Music                     1\n",
       "Drama, Music, Mystery             1\n",
       "Comedy, Crime, Mystery            1\n",
       "Crime, Drama, Musical             1\n",
       "Film-Noir, Mystery                1\n",
       "Comedy, Crime, Thriller           1\n",
       "Crime, Drama, Horror              1\n",
       "Adventure, Thriller               1\n",
       "Animation, Action, Sci-Fi         1\n",
       "Action, Crime, Comedy             1\n",
       "Animation, Crime, Mystery         1\n",
       "Adventure, Comedy, War            1\n",
       "Name: count, dtype: int64"
      ]
     },
     "execution_count": 20,
     "metadata": {},
     "output_type": "execute_result"
    }
   ],
   "source": [
    "# 'Poster_Link', 'Series_Title', 'Released_Year', 'Certificate', 'Runtime', 'Genre', 'IMDB_Rating', 'Overview', 'Meta_score', 'Director', 'Star1', 'Star2', 'Star3', 'Star4', 'No_of_Votes', 'Gross']\n",
    "print(\"Distribution of Genre\\n\")\n",
    "df[\"Genre\"].value_counts()\n",
    "\n",
    "\n",
    "\n"
   ]
  },
  {
   "cell_type": "code",
   "execution_count": null,
   "id": "7036d18d",
   "metadata": {},
   "outputs": [],
   "source": [
    "# Genre \n",
    "print(\"Distribution of Released Year\")\n",
    "df[\"Released_Year\"].value_counts()"
   ]
  },
  {
   "cell_type": "code",
   "execution_count": 25,
   "id": "7852be9e",
   "metadata": {},
   "outputs": [
    {
     "name": "stdout",
     "output_type": "stream",
     "text": [
      "Data types of Poster_Link = object\n",
      "Data types of Series_Title = object\n",
      "Data types of Released_Year = object\n",
      "Data types of Certificate = object\n",
      "Data types of Runtime = object\n",
      "Data types of Genre = object\n",
      "Data types of IMDB_Rating = float64\n",
      "Data types of Overview = object\n",
      "Data types of Meta_score = float64\n",
      "Data types of Director = object\n",
      "Data types of Star1 = object\n",
      "Data types of Star2 = object\n",
      "Data types of Star3 = object\n",
      "Data types of Star4 = object\n",
      "Data types of No_of_Votes = int64\n",
      "Data types of Gross = object\n"
     ]
    }
   ],
   "source": [
    "# data types of columns\n",
    "for col in df.columns:\n",
    "    print(f\"Data types of {col} = {df[col].dtype}\")"
   ]
  },
  {
   "cell_type": "code",
   "execution_count": null,
   "id": "af6ccd7e",
   "metadata": {},
   "outputs": [],
   "source": []
  }
 ],
 "metadata": {
  "kernelspec": {
   "display_name": "base",
   "language": "python",
   "name": "python3"
  },
  "language_info": {
   "codemirror_mode": {
    "name": "ipython",
    "version": 3
   },
   "file_extension": ".py",
   "mimetype": "text/x-python",
   "name": "python",
   "nbconvert_exporter": "python",
   "pygments_lexer": "ipython3",
   "version": "3.11.7"
  }
 },
 "nbformat": 4,
 "nbformat_minor": 5
}
