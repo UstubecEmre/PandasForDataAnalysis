{
 "cells": [
  {
   "cell_type": "markdown",
   "id": "fcab5a43",
   "metadata": {},
   "source": [
    "# Concat() and Merge() Methods in Pandas\n",
    "\n",
    "## 1. Why do we use join() or merge() in Pandas?\n",
    "In data analysis, we often work with multiple datasets that are related. The goal of join() or merge() is to combine these datasets based on common columns or indexes — similar to joins in SQL.\n",
    "\n",
    "## 2. Key Reasons to Use join() or merge()\n",
    "📌 1. Combining related data\n",
    "Example: You have one table with customer info and another with orders. You want to combine them by customer ID.\n",
    "\n",
    "📌 2. Bringing in additional data\n",
    "Example: You want to add region or salary data to an employee DataFrame.\n",
    "\n",
    "📌 3. Data enrichment\n",
    "By merging datasets, you can enrich your main data with more columns or rows from another source.\n",
    "\n",
    "📌 4. Handling real-world data structure\n",
    "In practice, data often comes in normalized form (spread across multiple tables). Merging helps consolidate them for analysis."
   ]
  },
  {
   "cell_type": "code",
   "execution_count": 2,
   "id": "d462c601",
   "metadata": {},
   "outputs": [],
   "source": [
    "# import libraries\n",
    "import pandas as pd\n",
    "import numpy as np"
   ]
  },
  {
   "cell_type": "code",
   "execution_count": 4,
   "id": "36480a08",
   "metadata": {},
   "outputs": [
    {
     "name": "stdout",
     "output_type": "stream",
     "text": [
      "******************** CUSTOMERS ********************\n",
      "    CustomerID FirstName  LastName  Age\n",
      "0            1      Emre   Üstübeç   26\n",
      "1            2       Ali  Karaağaç   32\n",
      "2            3      Veli      Meşe   18\n",
      "3            4      Ayşe    Sultan    7\n",
      "4            5     Fatma     Hatun   85\n",
      "5            6     Ceren    Bilgin   17\n",
      "6            7     Hasan    Yüksel   26\n",
      "7            8    Poyraz    Selcan   54\n",
      "8            9     Kuzey     Uysal   12\n",
      "9           10   Dilruba    Oltacı    3\n",
      "10          11     Deniz     Kasap   65\n",
      "11          12    Meryem    Gülsen   59 \n",
      "\n",
      "********************** ORDERS **********************\n",
      "    OrderID  CustomerID   OrderDate\n",
      "0       100           1  2025-06-08\n",
      "1       101           2  2025-06-09\n",
      "2       102           2  2025-08-25\n",
      "3       103           4  2025-11-14\n",
      "4       104           5  2025-11-14\n",
      "5       105           7  2025-11-14\n",
      "6       106           7  2025-12-30\n",
      "7       107           8  2025-12-30\n",
      "8       108           9  2025-09-22\n",
      "9       109          10  2025-10-18\n",
      "10      110          10  2025-02-14\n",
      "11      111          12  2025-02-14 \n",
      "\n"
     ]
    }
   ],
   "source": [
    "customers = {\n",
    "    \"CustomerID\": [1, 2, 3, 4, 5, 6, 7, 8, 9, 10, 11, 12],\n",
    "    \"FirstName\": [\"Emre\",\"Ali\",\"Veli\",\"Ayşe\",\"Fatma\",\"Ceren\",\"Hasan\",\"Poyraz\",\"Kuzey\",\"Dilruba\", \"Deniz\",\"Meryem\"],\n",
    "    \"LastName\": [\"Üstübeç\",\"Karaağaç\",\"Meşe\",\"Sultan\",\"Hatun\",\"Bilgin\",\"Yüksel\",\"Selcan\",\"Uysal\",\"Oltacı\",\"Kasap\",\"Gülsen\"],\n",
    "    \"Age\": [26, 32, 18, 7, 85, 17, 26, 54, 12, 3, 65, 59]\n",
    "}\n",
    "\n",
    "\n",
    "orders = {\n",
    "    \"OrderID\":[100, 101, 102, 103, 104, 105, 106, 107, 108, 109, 110, 111],\n",
    "    \"CustomerID\": [1, 2, 2, 4, 5, 7, 7, 8, 9, 10, 10, 12],\n",
    "    \"OrderDate\": [\"2025-06-08\", \"2025-06-09\", \"2025-08-25\", \"2025-11-14\",\"2025-11-14\",\"2025-11-14\",\"2025-12-30\",\"2025-12-30\",\"2025-09-22\",\"2025-10-18\",\"2025-02-14\",\"2025-02-14\"]\n",
    "}\n",
    "\n",
    "\n",
    "df_customers = pd.DataFrame(customers, columns =[\"CustomerID\",\"FirstName\",\"LastName\",\"Age\"])\n",
    "df_orders = pd.DataFrame(orders, columns = [\"OrderID\",\"CustomerID\",\"OrderDate\"])\n",
    "\n",
    "print(\"*\"*20, \"CUSTOMERS\",\"*\"*20)\n",
    "print(df_customers,\"\\n\")\n",
    "print(\"*\"*22, \"ORDERS\",\"*\"*22)\n",
    "print(df_orders,\"\\n\")\n",
    "\n"
   ]
  },
  {
   "cell_type": "code",
   "execution_count": 5,
   "id": "80c94107",
   "metadata": {},
   "outputs": [
    {
     "name": "stdout",
     "output_type": "stream",
     "text": [
      "********************* Merged DataFrame *********************\n",
      "    CustomerID FirstName  LastName  Age  OrderID   OrderDate\n",
      "0            1      Emre   Üstübeç   26      100  2025-06-08\n",
      "1            2       Ali  Karaağaç   32      101  2025-06-09\n",
      "2            2       Ali  Karaağaç   32      102  2025-08-25\n",
      "3            4      Ayşe    Sultan    7      103  2025-11-14\n",
      "4            5     Fatma     Hatun   85      104  2025-11-14\n",
      "5            7     Hasan    Yüksel   26      105  2025-11-14\n",
      "6            7     Hasan    Yüksel   26      106  2025-12-30\n",
      "7            8    Poyraz    Selcan   54      107  2025-12-30\n",
      "8            9     Kuzey     Uysal   12      108  2025-09-22\n",
      "9           10   Dilruba    Oltacı    3      109  2025-10-18\n",
      "10          10   Dilruba    Oltacı    3      110  2025-02-14\n",
      "11          12    Meryem    Gülsen   59      111  2025-02-14\n"
     ]
    }
   ],
   "source": [
    "# Merge Examples\n",
    "merged_df = pd.merge(df_customers, df_orders, how = \"inner\")\n",
    "print(\"********************* Merged DataFrame *********************\")\n",
    "print(merged_df) "
   ]
  },
  {
   "cell_type": "code",
   "execution_count": null,
   "id": "6a690b8f",
   "metadata": {},
   "outputs": [
    {
     "name": "stdout",
     "output_type": "stream",
     "text": [
      "********************* Left Merged DataFrame *********************\n",
      "    CustomerID FirstName  LastName  Age  OrderID   OrderDate\n",
      "0            1      Emre   Üstübeç   26    100.0  2025-06-08\n",
      "1            2       Ali  Karaağaç   32    101.0  2025-06-09\n",
      "2            2       Ali  Karaağaç   32    102.0  2025-08-25\n",
      "3            3      Veli      Meşe   18      NaN         NaN\n",
      "4            4      Ayşe    Sultan    7    103.0  2025-11-14\n",
      "5            5     Fatma     Hatun   85    104.0  2025-11-14\n",
      "6            6     Ceren    Bilgin   17      NaN         NaN\n",
      "7            7     Hasan    Yüksel   26    105.0  2025-11-14\n",
      "8            7     Hasan    Yüksel   26    106.0  2025-12-30\n",
      "9            8    Poyraz    Selcan   54    107.0  2025-12-30\n",
      "10           9     Kuzey     Uysal   12    108.0  2025-09-22\n",
      "11          10   Dilruba    Oltacı    3    109.0  2025-10-18\n",
      "12          10   Dilruba    Oltacı    3    110.0  2025-02-14\n",
      "13          11     Deniz     Kasap   65      NaN         NaN\n",
      "14          12    Meryem    Gülsen   59    111.0  2025-02-14\n"
     ]
    }
   ],
   "source": [
    "# how = left\n",
    "left_merged_df = pd.merge(df_customers, df_orders, how = \"left\")\n",
    "print(\"********************* Left Merged DataFrame *********************\")\n",
    "print(left_merged_df) # get all customers "
   ]
  },
  {
   "cell_type": "code",
   "execution_count": 7,
   "id": "d0932b7d",
   "metadata": {},
   "outputs": [
    {
     "name": "stdout",
     "output_type": "stream",
     "text": [
      "********************* Right Merged DataFrame *********************\n",
      "    CustomerID FirstName  LastName  Age  OrderID   OrderDate\n",
      "0            1      Emre   Üstübeç   26      100  2025-06-08\n",
      "1            2       Ali  Karaağaç   32      101  2025-06-09\n",
      "2            2       Ali  Karaağaç   32      102  2025-08-25\n",
      "3            4      Ayşe    Sultan    7      103  2025-11-14\n",
      "4            5     Fatma     Hatun   85      104  2025-11-14\n",
      "5            7     Hasan    Yüksel   26      105  2025-11-14\n",
      "6            7     Hasan    Yüksel   26      106  2025-12-30\n",
      "7            8    Poyraz    Selcan   54      107  2025-12-30\n",
      "8            9     Kuzey     Uysal   12      108  2025-09-22\n",
      "9           10   Dilruba    Oltacı    3      109  2025-10-18\n",
      "10          10   Dilruba    Oltacı    3      110  2025-02-14\n",
      "11          12    Meryem    Gülsen   59      111  2025-02-14\n"
     ]
    }
   ],
   "source": [
    "# how = \"right\"\n",
    "right_merged_df = pd.merge(df_customers, df_orders, how = \"right\")\n",
    "print(\"********************* Right Merged DataFrame *********************\")\n",
    "print(right_merged_df)  # get all orders "
   ]
  },
  {
   "cell_type": "code",
   "execution_count": 13,
   "id": "55a6e958",
   "metadata": {},
   "outputs": [
    {
     "name": "stdout",
     "output_type": "stream",
     "text": [
      "************************* Concat Example1 *************************\n",
      "   StudentNumber StudentName StudentSurname StudentGrade\n",
      "0            123       Cemre        Beyoğlu          12A\n",
      "1            128       Aytaç         Arıkan          12A\n",
      "2            132       Halil             Öz          11A\n",
      "3            147         Can       Derinler          12B\n",
      "4            160       Defne          Saman          12C\n",
      "5            256       Derya        Gözüpek          11A\n",
      "6            412        Ozan          Güner          11B\n",
      "0            124       Demir         Türkeş           9A\n",
      "1            128       Kadir      Mollaoğlu          10A\n",
      "2            142       Hülya           Köse          10B\n",
      "3            167       Canan           Işık          10B\n",
      "4            180       Seğer          Turan          10C\n",
      "5            216       Güney          Canik          11A\n",
      "6            284        Banu         Süzgün          12B \n",
      "\n",
      "************************************************** Concat Example2 **************************************************\n",
      "   StudentNumber StudentName StudentSurname StudentGrade  StudentNumber StudentName StudentSurname StudentGrade\n",
      "0            123       Cemre        Beyoğlu          12A            124       Demir         Türkeş           9A\n",
      "1            128       Aytaç         Arıkan          12A            128       Kadir      Mollaoğlu          10A\n",
      "2            132       Halil             Öz          11A            142       Hülya           Köse          10B\n",
      "3            147         Can       Derinler          12B            167       Canan           Işık          10B\n",
      "4            160       Defne          Saman          12C            180       Seğer          Turan          10C\n",
      "5            256       Derya        Gözüpek          11A            216       Güney          Canik          11A\n",
      "6            412        Ozan          Güner          11B            284        Banu         Süzgün          12B\n"
     ]
    }
   ],
   "source": [
    "# Concat example\n",
    "\n",
    "student_list1 = {\n",
    "    \"StudentNumber\":[123, 128, 132, 147, 160, 256, 412],\n",
    "    \"StudentName\":[\"Cemre\",\"Aytaç\",\"Halil\",\"Can\",\"Defne\",\"Derya\",\"Ozan\"],\n",
    "    \"StudentSurname\":[\"Beyoğlu\",\"Arıkan\",\"Öz\",\"Derinler\",\"Saman\",\"Gözüpek\",\"Güner\"],\n",
    "    \"StudentGrade\":[\"12A\",\"12A\",\"11A\",\"12B\",\"12C\",\"11A\",\"11B\"]\n",
    "    \n",
    "}\n",
    "student_list2 = {\n",
    "    \"StudentNumber\":[124, 128, 142, 167, 180, 216, 284],\n",
    "    \"StudentName\":[\"Demir\",\"Kadir\",\"Hülya\",\"Canan\",\"Seğer\",\"Güney\",\"Banu\"],\n",
    "    \"StudentSurname\":[\"Türkeş\",\"Mollaoğlu\",\"Köse\",\"Işık\",\"Turan\",\"Canik\",\"Süzgün\"],\n",
    "    \"StudentGrade\":[\"9A\",\"10A\",\"10B\",\"10B\",\"10C\",\"11A\",\"12B\"]\n",
    "}\n",
    "\n",
    "df_students1 = pd.DataFrame(student_list1, columns = [\"StudentNumber\",\"StudentName\",\"StudentSurname\",\"StudentGrade\"])\n",
    "df_students2 = pd.DataFrame(student_list2, columns = [\"StudentNumber\",\"StudentName\",\"StudentSurname\",\"StudentGrade\"])\n",
    "\n",
    "# set options\n",
    "pd.set_option(\"display.max_rows\", 250)\n",
    "pd.set_option(\"display.max_columns\",250),\n",
    "pd.set_option(\"display.width\", 300)\n",
    "# axis = 0 => row % axis = 1 => column\n",
    "concatenated_df = pd.concat([df_students1, df_students2]) \n",
    "print(\"************************* Concat Example1 *************************\")\n",
    "print(concatenated_df,\"\\n\")\n",
    "\n",
    "concatenated_df2 = pd.concat([df_students1, df_students2], axis= 1) \n",
    "print(\"************************************************** Concat Example2 **************************************************\")\n",
    "print(concatenated_df2)"
   ]
  },
  {
   "cell_type": "code",
   "execution_count": null,
   "id": "1fb16654",
   "metadata": {},
   "outputs": [],
   "source": []
  }
 ],
 "metadata": {
  "kernelspec": {
   "display_name": "base",
   "language": "python",
   "name": "python3"
  },
  "language_info": {
   "codemirror_mode": {
    "name": "ipython",
    "version": 3
   },
   "file_extension": ".py",
   "mimetype": "text/x-python",
   "name": "python",
   "nbconvert_exporter": "python",
   "pygments_lexer": "ipython3",
   "version": "3.11.7"
  }
 },
 "nbformat": 4,
 "nbformat_minor": 5
}
