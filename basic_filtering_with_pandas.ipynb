{
 "cells": [
  {
   "cell_type": "markdown",
   "id": "a1027744",
   "metadata": {},
   "source": [
    "# Filtering Operations Using Pandas"
   ]
  },
  {
   "cell_type": "code",
   "execution_count": 1,
   "id": "e1d722d0",
   "metadata": {},
   "outputs": [],
   "source": [
    "# import essential libraries\n",
    "import pandas as pd\n",
    "import numpy as np\n",
    "\n"
   ]
  },
  {
   "cell_type": "code",
   "execution_count": 3,
   "id": "27a39907",
   "metadata": {},
   "outputs": [
    {
     "name": "stdout",
     "output_type": "stream",
     "text": [
      "********************** DataFrame **********************\n",
      "    Column1  Column2  Column3  Column4  Column5\n",
      "0        78       70       67       43       47\n",
      "1        55       61       53       90       84\n",
      "2        21       29       70       48       25\n",
      "3        58       83       50       57       83\n",
      "4        71       92       50       23       37\n",
      "5        56       20       52       19       89\n",
      "6        65       63       84       70       93\n",
      "7        87       75       57       20       78\n",
      "8        75       80       62       29       72\n",
      "9        71       57       14       60       31\n",
      "10       87       15       31       71       55\n",
      "11       14       59       13       13       68\n",
      "12       18       23       30       72       82\n",
      "13       80       81       89       33       35\n",
      "14       98       53       12       22       83\n"
     ]
    }
   ],
   "source": [
    "data = np.random.randint(10,100, (15, 5))\n",
    "print(\"********************** DataFrame **********************\")\n",
    "#  convert series to dataframe\n",
    "df = pd.DataFrame(data, columns = [\"Column1\",\"Column2\", \"Column3\", \"Column4\", \"Column5\"])\n",
    "print(df)"
   ]
  },
  {
   "cell_type": "code",
   "execution_count": null,
   "id": "e7e543d3",
   "metadata": {},
   "outputs": [],
   "source": [
    "# select columns\n",
    "df_columns = df.columns\n",
    "print(\"**************** Columns ****************\")\n",
    "print(df_columns)"
   ]
  }
 ],
 "metadata": {
  "kernelspec": {
   "display_name": "base",
   "language": "python",
   "name": "python3"
  },
  "language_info": {
   "codemirror_mode": {
    "name": "ipython",
    "version": 3
   },
   "file_extension": ".py",
   "mimetype": "text/x-python",
   "name": "python",
   "nbconvert_exporter": "python",
   "pygments_lexer": "ipython3",
   "version": "3.11.7"
  }
 },
 "nbformat": 4,
 "nbformat_minor": 5
}
