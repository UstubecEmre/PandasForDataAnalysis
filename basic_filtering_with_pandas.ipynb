{
 "cells": [
  {
   "cell_type": "markdown",
   "id": "a1027744",
   "metadata": {},
   "source": [
    "# Filtering Operations Using Pandas"
   ]
  },
  {
   "cell_type": "code",
   "execution_count": 1,
   "id": "e1d722d0",
   "metadata": {},
   "outputs": [],
   "source": [
    "# import essential libraries\n",
    "import pandas as pd\n",
    "import numpy as np\n",
    "\n"
   ]
  },
  {
   "cell_type": "code",
   "execution_count": 3,
   "id": "27a39907",
   "metadata": {},
   "outputs": [
    {
     "name": "stdout",
     "output_type": "stream",
     "text": [
      "********************** DataFrame **********************\n",
      "    Column1  Column2  Column3  Column4  Column5\n",
      "0        78       70       67       43       47\n",
      "1        55       61       53       90       84\n",
      "2        21       29       70       48       25\n",
      "3        58       83       50       57       83\n",
      "4        71       92       50       23       37\n",
      "5        56       20       52       19       89\n",
      "6        65       63       84       70       93\n",
      "7        87       75       57       20       78\n",
      "8        75       80       62       29       72\n",
      "9        71       57       14       60       31\n",
      "10       87       15       31       71       55\n",
      "11       14       59       13       13       68\n",
      "12       18       23       30       72       82\n",
      "13       80       81       89       33       35\n",
      "14       98       53       12       22       83\n"
     ]
    }
   ],
   "source": [
    "data = np.random.randint(10,100, (15, 5))\n",
    "print(\"********************** DataFrame **********************\")\n",
    "#  convert series to dataframe\n",
    "df = pd.DataFrame(data, columns = [\"Column1\",\"Column2\", \"Column3\", \"Column4\", \"Column5\"])\n",
    "print(df)"
   ]
  },
  {
   "cell_type": "code",
   "execution_count": 11,
   "id": "e7e543d3",
   "metadata": {},
   "outputs": [
    {
     "name": "stdout",
     "output_type": "stream",
     "text": [
      "********************************** Columns **********************************\n",
      "Index(['Column1', 'Column2', 'Column3', 'Column4', 'Column5'], dtype='object')\n",
      "*****************************************************************************\n",
      "******************************* Row Information *******************************\n",
      "First Five Rows:\n",
      "\n",
      "   Column1  Column2  Column3  Column4  Column5\n",
      "0       78       70       67       43       47\n",
      "1       55       61       53       90       84\n",
      "2       21       29       70       48       25\n",
      "3       58       83       50       57       83\n",
      "4       71       92       50       23       37\n",
      "*****************************************************************************\n",
      "Last Five Rows:\n",
      "\n",
      "    Column1  Column2  Column3  Column4  Column5\n",
      "10       87       15       31       71       55\n",
      "11       14       59       13       13       68\n",
      "12       18       23       30       72       82\n",
      "13       80       81       89       33       35\n",
      "14       98       53       12       22       83\n",
      "*****************************************************************************\n"
     ]
    }
   ],
   "source": [
    "# select columns\n",
    "df_columns = df.columns\n",
    "print(\"********************************** Columns **********************************\")\n",
    "print(df_columns)\n",
    "print(\"*\"*77)\n",
    "\n",
    "print(\"*\"*31, \"Row Information\",\"*\"*31 )\n",
    "print(\"First Five Rows:\\n\")\n",
    "first_five_rows = df.head()\n",
    "last_five_rows = df.tail()\n",
    "print(first_five_rows)\n",
    "print(\"*\"*77)\n",
    "print(\"Last Five Rows:\\n\")\n",
    "print(last_five_rows)\n",
    "print(\"*\"*77)\n",
    "# print(len(\"********************************** Columns **********************************\")) 77"
   ]
  },
  {
   "cell_type": "code",
   "execution_count": null,
   "id": "0edbd4dc",
   "metadata": {},
   "outputs": [
    {
     "name": "stdout",
     "output_type": "stream",
     "text": [
      "********** Column1 **********\n",
      "0    78\n",
      "1    55\n",
      "2    21\n",
      "3    58\n",
      "4    71\n",
      "Name: Column1, dtype: int32\n"
     ]
    }
   ],
   "source": [
    "# select column\n",
    "column1 = df[\"Column1\"].head()\n",
    "print(\"********** Column1 **********\")\n",
    "print(column1)\n",
    "\n",
    "# df.Column1.head() "
   ]
  },
  {
   "cell_type": "code",
   "execution_count": 13,
   "id": "1e48ba16",
   "metadata": {},
   "outputs": [
    {
     "name": "stdout",
     "output_type": "stream",
     "text": [
      "************ Selected Columns ************\n",
      "   Column1  Column3  Column5\n",
      "0       78       67       47\n",
      "1       55       53       84\n",
      "2       21       70       25\n",
      "3       58       50       83\n",
      "4       71       50       37\n"
     ]
    }
   ],
   "source": [
    "multi_columns = df[[\"Column1\", \"Column3\",\"Column5\"]].head()\n",
    "print(\"************ Selected Columns ************\")\n",
    "print(multi_columns)"
   ]
  },
  {
   "cell_type": "code",
   "execution_count": 14,
   "id": "e1acea1d",
   "metadata": {},
   "outputs": [
    {
     "name": "stdout",
     "output_type": "stream",
     "text": [
      "************ Selected Rows and Cols ************\n",
      "    Column2  Column4\n",
      "10       15       71\n",
      "11       59       13\n",
      "12       23       72\n",
      "13       81       33\n",
      "14       53       22\n"
     ]
    }
   ],
   "source": [
    "select_multi_row_and_col = df[10 : 15][[\"Column2\",\"Column4\"]].head()\n",
    "print(\"************ Selected Rows and Cols ************\")\n",
    "print(select_multi_row_and_col)"
   ]
  },
  {
   "cell_type": "code",
   "execution_count": 15,
   "id": "c28961d3",
   "metadata": {},
   "outputs": [
    {
     "name": "stdout",
     "output_type": "stream",
     "text": [
      "************* Elements Greater Than 60 *************\n",
      "    Column1  Column2  Column3  Column4  Column5\n",
      "0      78.0     70.0     67.0      NaN      NaN\n",
      "1       NaN     61.0      NaN     90.0     84.0\n",
      "2       NaN      NaN     70.0      NaN      NaN\n",
      "3       NaN     83.0      NaN      NaN     83.0\n",
      "4      71.0     92.0      NaN      NaN      NaN\n",
      "5       NaN      NaN      NaN      NaN     89.0\n",
      "6      65.0     63.0     84.0     70.0     93.0\n",
      "7      87.0     75.0      NaN      NaN     78.0\n",
      "8      75.0     80.0     62.0      NaN     72.0\n",
      "9      71.0      NaN      NaN      NaN      NaN\n",
      "10     87.0      NaN      NaN     71.0      NaN\n",
      "11      NaN      NaN      NaN      NaN     68.0\n",
      "12      NaN      NaN      NaN     72.0     82.0\n",
      "13     80.0     81.0     89.0      NaN      NaN\n",
      "14     98.0      NaN      NaN      NaN     83.0\n"
     ]
    }
   ],
   "source": [
    "# Filtering Operations\n",
    "greater_than_60 = df > 60\n",
    "print(\"************* Elements Greater Than 60 *************\")\n",
    "print(df[greater_than_60])"
   ]
  },
  {
   "cell_type": "code",
   "execution_count": 16,
   "id": "ab422532",
   "metadata": {},
   "outputs": [
    {
     "name": "stdout",
     "output_type": "stream",
     "text": [
      "********************* Even Elements *********************\n",
      "    Column1  Column2  Column3  Column4  Column5\n",
      "0      78.0     70.0      NaN      NaN      NaN\n",
      "1       NaN      NaN      NaN     90.0     84.0\n",
      "2       NaN      NaN     70.0     48.0      NaN\n",
      "3      58.0      NaN     50.0      NaN      NaN\n",
      "4       NaN     92.0     50.0      NaN      NaN\n",
      "5      56.0     20.0     52.0      NaN      NaN\n",
      "6       NaN      NaN     84.0     70.0      NaN\n",
      "7       NaN      NaN      NaN     20.0     78.0\n",
      "8       NaN     80.0     62.0      NaN     72.0\n",
      "9       NaN      NaN     14.0     60.0      NaN\n",
      "10      NaN      NaN      NaN      NaN      NaN\n",
      "11     14.0      NaN      NaN      NaN     68.0\n",
      "12     18.0      NaN     30.0     72.0     82.0\n",
      "13     80.0      NaN      NaN      NaN      NaN\n",
      "14     98.0      NaN     12.0     22.0      NaN\n"
     ]
    }
   ],
   "source": [
    "even_elements = df % 2 == 0\n",
    "print(\"********************* Even Elements *********************\")\n",
    "print(df[even_elements])"
   ]
  },
  {
   "cell_type": "code",
   "execution_count": 18,
   "id": "6bbf158b",
   "metadata": {},
   "outputs": [
    {
     "name": "stdout",
     "output_type": "stream",
     "text": [
      "0     False\n",
      "1     False\n",
      "2      True\n",
      "3     False\n",
      "4     False\n",
      "5     False\n",
      "6     False\n",
      "7     False\n",
      "8     False\n",
      "9     False\n",
      "10    False\n",
      "11     True\n",
      "12     True\n",
      "13    False\n",
      "14    False\n",
      "Name: Column1, dtype: bool\n",
      "**************************************************\n",
      "    Column1  Column2  Column3  Column4  Column5\n",
      "2        21       29       70       48       25\n",
      "11       14       59       13       13       68\n",
      "12       18       23       30       72       82\n"
     ]
    }
   ],
   "source": [
    "filtering_example1 = df[\"Column1\"] < 30\n",
    "print(filtering_example1)\n",
    "print(\"*\"*50)\n",
    "print(df[filtering_example1])"
   ]
  },
  {
   "cell_type": "code",
   "execution_count": 19,
   "id": "c9b41032",
   "metadata": {},
   "outputs": [
    {
     "name": "stdout",
     "output_type": "stream",
     "text": [
      "****************** Example of Pandas Filtering ******************\n",
      "    Column1  Column4  Column5\n",
      "0        78       43       47\n",
      "4        71       23       37\n",
      "5        56       19       89\n",
      "7        87       20       78\n",
      "8        75       29       72\n",
      "11       14       13       68\n",
      "13       80       33       35\n",
      "14       98       22       83\n"
     ]
    }
   ],
   "source": [
    "filtering_example2 = df[df[\"Column4\"] < 45][[\"Column1\",\"Column4\", \"Column5\"]]\n",
    "print(\"****************** Example of Pandas Filtering ******************\")\n",
    "print(filtering_example2)"
   ]
  },
  {
   "cell_type": "code",
   "execution_count": null,
   "id": "efece8c1",
   "metadata": {},
   "outputs": [
    {
     "name": "stdout",
     "output_type": "stream",
     "text": [
      "******************* Filtering Example3 *******************\n",
      "   Column1  Column2  Column3  Column4  Column5\n",
      "2       21       29       70       48       25\n"
     ]
    }
   ],
   "source": [
    "# using add operator\n",
    "filtering_example3 = df[(df[\"Column1\"] < 80) & (df[\"Column2\"] < 45) & (df[\"Column5\"] <= 41)].head()\n",
    "print(\"******************* Filtering Example3 *******************\")\n",
    "print(filtering_example3)"
   ]
  },
  {
   "cell_type": "code",
   "execution_count": 27,
   "id": "5d6717ee",
   "metadata": {},
   "outputs": [
    {
     "name": "stdout",
     "output_type": "stream",
     "text": [
      "******************* Filtering Example4 *******************\n",
      "    Column1  Column2  Column3  Column4  Column5\n",
      "1        55       61       53       90       84\n",
      "3        58       83       50       57       83\n",
      "5        56       20       52       19       89\n",
      "6        65       63       84       70       93\n",
      "7        87       75       57       20       78\n",
      "10       87       15       31       71       55\n",
      "12       18       23       30       72       82\n",
      "14       98       53       12       22       83\n"
     ]
    }
   ],
   "source": [
    "# using or operator\n",
    "filtering_example4 = df[(df[\"Column2\"] <= 20) | (df[\"Column5\"] >= 74)]\n",
    "print(\"******************* Filtering Example4 *******************\")\n",
    "print(filtering_example4)"
   ]
  },
  {
   "cell_type": "code",
   "execution_count": 28,
   "id": "b537fe5f",
   "metadata": {},
   "outputs": [
    {
     "name": "stdout",
     "output_type": "stream",
     "text": [
      "******************* Filtering Example5 *******************\n",
      "   Column1  Column2  Column3  Column4  Column5\n",
      "1       55       61       53       90       84\n",
      "2       21       29       70       48       25\n",
      "4       71       92       50       23       37\n",
      "6       65       63       84       70       93\n",
      "7       87       75       57       20       78\n",
      "8       75       80       62       29       72\n"
     ]
    }
   ],
   "source": [
    "# using query\n",
    "filtering_example5 = df.query(\"Column3 >= 35 & Column1 %2 == 1\")\n",
    "print(\"******************* Filtering Example5 *******************\")\n",
    "print(filtering_example5)"
   ]
  },
  {
   "cell_type": "code",
   "execution_count": 31,
   "id": "e6f9f316",
   "metadata": {},
   "outputs": [
    {
     "name": "stdout",
     "output_type": "stream",
     "text": [
      "******************* Filtering Example6 *******************\n",
      "    Column1  Column2  Column5\n",
      "2        21       29       25\n",
      "5        56       20       89\n",
      "9        71       57       31\n",
      "10       87       15       55\n",
      "14       98       53       83\n"
     ]
    }
   ],
   "source": [
    "filtering_example6 = df.query(\"Column1 >= 20 & Column2 <= 60\")[[\"Column1\", \"Column2\",\"Column5\"]]\n",
    "print(\"******************* Filtering Example6 *******************\")\n",
    "print(filtering_example6)"
   ]
  },
  {
   "cell_type": "code",
   "execution_count": null,
   "id": "3ac87cc8",
   "metadata": {},
   "outputs": [],
   "source": []
  }
 ],
 "metadata": {
  "kernelspec": {
   "display_name": "base",
   "language": "python",
   "name": "python3"
  },
  "language_info": {
   "codemirror_mode": {
    "name": "ipython",
    "version": 3
   },
   "file_extension": ".py",
   "mimetype": "text/x-python",
   "name": "python",
   "nbconvert_exporter": "python",
   "pygments_lexer": "ipython3",
   "version": "3.11.7"
  }
 },
 "nbformat": 4,
 "nbformat_minor": 5
}
