{
 "cells": [
  {
   "cell_type": "markdown",
   "id": "e4f75c26",
   "metadata": {},
   "source": [
    "# Select Rows and Columns Using Pandas"
   ]
  },
  {
   "cell_type": "code",
   "execution_count": null,
   "id": "6ef17f32",
   "metadata": {},
   "outputs": [],
   "source": [
    "# import necessary libraries\n",
    "import numpy as np\n",
    "import pandas as pd\n",
    " "
   ]
  },
  {
   "cell_type": "code",
   "execution_count": 3,
   "id": "d50fa87d",
   "metadata": {},
   "outputs": [
    {
     "name": "stdout",
     "output_type": "stream",
     "text": [
      "***********************DataFrame ***********************\n",
      "    Column1   Column2   Column3   Column4\n",
      "A  1.379573 -0.820757 -0.689588  0.648073\n",
      "B  0.423529 -1.346801 -1.005498  2.418225\n",
      "C  2.518708  0.429870  0.208877 -0.402134\n",
      "D -0.571662  0.358463 -0.573107 -1.034816\n"
     ]
    }
   ],
   "source": [
    "df = pd.DataFrame(np.random.randn(4, 4), index = ['A', 'B','C', 'D'], columns = ['Column1','Column2','Column3','Column4'])\n",
    "print(\"***********************DataFrame ***********************\")\n",
    "print(df)"
   ]
  },
  {
   "cell_type": "code",
   "execution_count": 6,
   "id": "283b7132",
   "metadata": {},
   "outputs": [
    {
     "name": "stdout",
     "output_type": "stream",
     "text": [
      "****** Column1 ******\n",
      "A    1.379573\n",
      "B    0.423529\n",
      "C    2.518708\n",
      "D   -0.571662\n",
      "Name: Column1, dtype: float64\n",
      "Type of column1: <class 'pandas.core.series.Series'>\n",
      "\n"
     ]
    }
   ],
   "source": [
    "col1 = df[\"Column1\"]\n",
    "print(f\"****** Column1 ******\\n{col1}\")\n",
    "print(f\"Type of column1: {type(col1)}\\n\")"
   ]
  },
  {
   "cell_type": "code",
   "execution_count": 8,
   "id": "b99d0cf6",
   "metadata": {},
   "outputs": [
    {
     "name": "stdout",
     "output_type": "stream",
     "text": [
      "****** First Two Columns ******\n",
      "    Column1   Column2\n",
      "A  1.379573 -0.820757\n",
      "B  0.423529 -1.346801\n",
      "C  2.518708  0.429870\n",
      "D -0.571662  0.358463\n",
      "Type of first_two_columns: <class 'pandas.core.frame.DataFrame'>\n"
     ]
    }
   ],
   "source": [
    "first_two_cols = df[[\"Column1\", \"Column2\"]]\n",
    "print(f\"****** First Two Columns ******\")\n",
    "print(f\"{first_two_cols}\\nType of first_two_columns: {type(first_two_cols)}\")"
   ]
  },
  {
   "cell_type": "code",
   "execution_count": 9,
   "id": "57762538",
   "metadata": {},
   "outputs": [
    {
     "name": "stdout",
     "output_type": "stream",
     "text": [
      "****** Row Selection Example ******\n",
      "Column1    1.379573\n",
      "Column2   -0.820757\n",
      "Column3   -0.689588\n",
      "Column4    0.648073\n",
      "Name: A, dtype: float64 \n",
      " Type of row_selection: <class 'pandas.core.series.Series'>\n"
     ]
    }
   ],
   "source": [
    "# Select by row\n",
    "row_selection = df.loc[\"A\"] # loc => location\n",
    "print(\"****** Row Selection Example ******\")\n",
    "print(row_selection, \"\\n\", \"Type of row_selection:\", type(row_selection))"
   ]
  },
  {
   "cell_type": "code",
   "execution_count": 23,
   "id": "3fa0c449",
   "metadata": {},
   "outputs": [
    {
     "name": "stdout",
     "output_type": "stream",
     "text": [
      "************************* Loc Operations *************************\n",
      "Column1    0.423529\n",
      "Column2   -1.346801\n",
      "Column3   -1.005498\n",
      "Column4    2.418225\n",
      "Name: B, dtype: float64\n",
      "**************************************************\n",
      "A   -0.689588\n",
      "B   -1.005498\n",
      "C    0.208877\n",
      "D   -0.573107\n",
      "Name: Column3, dtype: float64\n",
      "**************************************************\n",
      "    Column2   Column4\n",
      "A -0.820757  0.648073\n",
      "B -1.346801  2.418225\n",
      "C  0.429870 -0.402134\n",
      "D  0.358463 -1.034816\n",
      "**************************************************\n",
      "    Column1   Column2\n",
      "A  1.379573 -0.820757\n",
      "B  0.423529 -1.346801\n",
      "C  2.518708  0.429870\n",
      "D -0.571662  0.358463\n",
      "**************************************************\n",
      "    Column3   Column4\n",
      "B -1.005498  2.418225\n",
      "C  0.208877 -0.402134\n",
      "D -0.573107 -1.034816\n",
      "**************************************************\n",
      "0.42987014641395843\n",
      "**************************************************\n",
      "    Column2   Column4\n",
      "B -1.346801  2.418225\n",
      "D  0.358463 -1.034816\n",
      "**************************************************\n"
     ]
    }
   ],
   "source": [
    "# loc usage\n",
    "# loc[\"row\", \"column\"]\n",
    "print(\"************************* Loc Operations *************************\")\n",
    "loc_example1 = df.loc[\"B\"]\n",
    "print(loc_example1)\n",
    "print(\"*\"*50)\n",
    "\n",
    "loc_example2 = df.loc[:,\"Column3\"]\n",
    "print(loc_example2)\n",
    "print(\"*\"*50)\n",
    "\n",
    "loc_example3 = df.loc[:, [\"Column2\", \"Column4\"]]\n",
    "print(loc_example3)\n",
    "print(\"*\"*50)\n",
    "\n",
    "loc_example4 = df.loc[:,\"Column1\":\"Column2\" ]# select all rows but only select column1 and column2 of columns\n",
    "print(loc_example4)\n",
    "print(\"*\"*50)\n",
    "\n",
    "loc_example5 = df.loc[\"B\":\"D\", \"Column3\":\"Column4\"]\n",
    "print(loc_example5)\n",
    "print(\"*\"*50)\n",
    "\n",
    "loc_example6 = df.loc[\"C\", \"Column2\"]\n",
    "print(loc_example6)\n",
    "print(\"*\"*50)\n",
    "\n",
    "loc_example7 = df.loc[[\"B\",\"D\"], [\"Column2\", \"Column4\"]]\n",
    "print(loc_example7)\n",
    "print(\"*\"*50)"
   ]
  },
  {
   "cell_type": "code",
   "execution_count": 21,
   "id": "5253be3a",
   "metadata": {},
   "outputs": [
    {
     "name": "stdout",
     "output_type": "stream",
     "text": [
      "************************* ILoc Operations *************************\n",
      "Column1    2.518708\n",
      "Column2    0.429870\n",
      "Column3    0.208877\n",
      "Column4   -0.402134\n",
      "Name: C, dtype: float64\n",
      "**************************************************\n",
      "0.42987014641395843\n",
      "**************************************************\n",
      "    Column1   Column2\n",
      "A  1.379573 -0.820757\n",
      "B  0.423529 -1.346801\n",
      "C  2.518708  0.429870\n",
      "D -0.571662  0.358463\n",
      "**************************************************\n",
      "    Column1   Column2   Column3   Column4\n",
      "A  1.379573 -0.820757 -0.689588  0.648073\n",
      "B  0.423529 -1.346801 -1.005498  2.418225\n",
      "**************************************************\n",
      "    Column1   Column2\n",
      "B  0.423529 -1.346801\n",
      "C  2.518708  0.429870\n",
      "**************************************************\n"
     ]
    }
   ],
   "source": [
    "# iloc usage => integer location\n",
    "print(\"************************* ILoc Operations *************************\")\n",
    "iloc_example1 = df.iloc[2]\n",
    "print(iloc_example1)\n",
    "print(\"*\"*50)\n",
    "\n",
    "iloc_example2 = df.iloc[2, 1] # row in the second index and column in the first index\n",
    "print(iloc_example2)\n",
    "print(\"*\"*50)\n",
    "\n",
    "iloc_example3 = df.iloc[:, 0:2]\n",
    "print(iloc_example3)\n",
    "print(\"*\"*50)\n",
    "\n",
    "iloc_example4 = df.iloc[0:2, :]\n",
    "print(iloc_example4)\n",
    "print(\"*\"*50)\n",
    "\n",
    "\n",
    "iloc_example5 = df.iloc[1:3, 0:2]\n",
    "print(iloc_example5)\n",
    "print(\"*\"*50)"
   ]
  },
  {
   "cell_type": "code",
   "execution_count": 26,
   "id": "fb1dc307",
   "metadata": {},
   "outputs": [
    {
     "name": "stdout",
     "output_type": "stream",
     "text": [
      "**************************** New DataFrame ****************************\n",
      "    Column1   Column2   Column3   Column4   Column5   Column6   Column7\n",
      "A  1.379573 -0.820757 -0.689588  0.648073  2.063439 -0.585999 -1.965572\n",
      "B  0.423529 -1.346801 -1.005498  2.418225 -0.064732  1.142655  0.719125\n",
      "C  2.518708  0.429870  0.208877 -0.402134 -0.239616  0.617184 -1.901524\n",
      "D -0.571662  0.358463 -0.573107 -1.034816  0.837141  0.001193  0.572855\n"
     ]
    }
   ],
   "source": [
    "df[\"Column5\"] = pd.Series(np.random.randn(4), [\"A\",\"B\",\"C\",\"D\"])\n",
    "df[\"Column6\"] = pd.Series(np.random.randn(4), [\"A\",\"B\",\"C\",\"D\"])\n",
    "df[\"Column7\"] = df[\"Column6\"] - df[\"Column1\"]\n",
    "\n",
    "print(\"**************************** New DataFrame ****************************\")\n",
    "print(df)\n",
    "# Drop"
   ]
  },
  {
   "cell_type": "code",
   "execution_count": 28,
   "id": "620fe388",
   "metadata": {},
   "outputs": [
    {
     "name": "stdout",
     "output_type": "stream",
     "text": [
      "****************************** Example of using drop method ******************************\n",
      "    Column1   Column2   Column3   Column4   Column5   Column6\n",
      "A  1.379573 -0.820757 -0.689588  0.648073  2.063439 -0.585999\n",
      "B  0.423529 -1.346801 -1.005498  2.418225 -0.064732  1.142655\n",
      "C  2.518708  0.429870  0.208877 -0.402134 -0.239616  0.617184\n",
      "D -0.571662  0.358463 -0.573107 -1.034816  0.837141  0.001193\n",
      "******************************************************************************************\n"
     ]
    }
   ],
   "source": [
    "# use of drop method\n",
    "# axis = 0  => x       axis = 1  => y\n",
    "df.drop(\"Column7\", axis = 1, inplace= True) # give an axis value \n",
    "print(\"****************************** Example of using drop method ******************************\")\n",
    "print(df)\n",
    "print(\"*\"*len(\"****************************** Example of using drop method ******************************\"))"
   ]
  },
  {
   "cell_type": "code",
   "execution_count": null,
   "id": "fcc0fd33",
   "metadata": {},
   "outputs": [],
   "source": []
  }
 ],
 "metadata": {
  "kernelspec": {
   "display_name": "base",
   "language": "python",
   "name": "python3"
  },
  "language_info": {
   "codemirror_mode": {
    "name": "ipython",
    "version": 3
   },
   "file_extension": ".py",
   "mimetype": "text/x-python",
   "name": "python",
   "nbconvert_exporter": "python",
   "pygments_lexer": "ipython3",
   "version": "3.11.7"
  }
 },
 "nbformat": 4,
 "nbformat_minor": 5
}
