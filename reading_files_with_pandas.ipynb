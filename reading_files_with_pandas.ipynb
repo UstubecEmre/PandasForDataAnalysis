{
 "cells": [
  {
   "cell_type": "markdown",
   "id": "4c980747",
   "metadata": {},
   "source": [
    "# Reading Files from Different Data Types\n",
    "We can read files of different data formats using the Pandas library.\n",
    "\n",
    "Commonly used formats include CSV, JSON, and Excel (XLSX) files.\n",
    "\n",
    "o pd.read_csv()\n",
    "\n",
    "o pd.read_json()\n",
    "\n",
    "o pd.read_excel()\n",
    "\n",
    "o pd.read_sql()\n",
    "\n",
    "o pd.read_sql_query()\n",
    "\n",
    "etc ..."
   ]
  },
  {
   "cell_type": "markdown",
   "id": "01d133aa",
   "metadata": {},
   "source": []
  },
  {
   "cell_type": "code",
   "execution_count": null,
   "id": "3107d3f8",
   "metadata": {},
   "outputs": [
    {
     "name": "stdout",
     "output_type": "stream",
     "text": [
      "   Student_ID  Age  Gender Academic_Level     Country  Avg_Daily_Usage_Hours Most_Used_Platform Affects_Academic_Performance  Sleep_Hours_Per_Night  Mental_Health_Score Relationship_Status  Conflicts_Over_Social_Media  Addicted_Score\n",
      "0           1   19  Female  Undergraduate  Bangladesh                  5.200          Instagram                          Yes                  6.500                    6     In Relationship                            3               8\n",
      "1           2   22    Male       Graduate       India                  2.100            Twitter                           No                  7.500                    8              Single                            0               3\n",
      "2           3   20  Female  Undergraduate         USA                  6.000             TikTok                          Yes                  5.000                    5         Complicated                            4               9\n",
      "3           4   18    Male    High School          UK                  3.000            YouTube                           No                  7.000                    7              Single                            1               4\n",
      "4           5   21    Male       Graduate      Canada                  4.500           Facebook                          Yes                  6.000                    6     In Relationship                            2               7\n"
     ]
    }
   ],
   "source": [
    "# import Pandas\n",
    "import pandas as pd\n",
    "\n",
    "# Set options\n",
    "pd.set_option(\"display.max_columns\", 500)\n",
    "pd.set_option(\"display.max_rows\", 500)\n",
    "pd.set_option(\"display.float_format\", lambda x: '%.3f' % x)\n",
    "pd.set_option(\"display.width\", 500)\n",
    "\n",
    "# read csv files\n",
    "file_path = r\"D:\\PandasForDataAnalysis\\datasets\\students_social_media_addiction.csv\"\n",
    "try:\n",
    "    df = pd.read_csv(file_path)\n",
    "    print(df.head())\n",
    "except FileNotFoundError:\n",
    "    raise FileNotFoundError(\"Sorry, File Path Not Found. Please check the file path\")\n",
    "\n",
    "\n",
    "\n"
   ]
  },
  {
   "cell_type": "code",
   "execution_count": 11,
   "id": "ffe1e188",
   "metadata": {},
   "outputs": [
    {
     "name": "stdout",
     "output_type": "stream",
     "text": [
      "   id           title   type                               genre  episodes_or_chapters     status  rating  year\n",
      "0   1   Anime Title 1  Anime         [Action, Sci-Fi, Adventure]                   152     Hiatus   9.090  1993\n",
      "1   2   Anime Title 2  Anime                           [Romance]                    97    Ongoing   6.880  1999\n",
      "2   3   Anime Title 3  Manga                   [Comedy, Mystery]                    66  Completed   8.300  2006\n",
      "3   4   Anime Title 4  Manga          [Horror, Romance, Mystery]                   193  Completed   9.010  2011\n",
      "4   5   Anime Title 5  Manga          [Sci-Fi, Mystery, Romance]                    22  Completed   9.190  2016\n",
      "5   6   Anime Title 6  Anime  [Slice of Life, Adventure, Comedy]                    39  Completed   8.300  1995\n",
      "6   7   Anime Title 7  Manga              [Drama, Slice of Life]                   161  Completed   9.300  2011\n",
      "7   8   Anime Title 8  Anime            [Horror, Drama, Mystery]                    23  Completed   9.340  1997\n",
      "8   9   Anime Title 9  Manga                    [Comedy, Action]                   150     Hiatus   7.510  2002\n",
      "9  10  Anime Title 10  Manga             [Drama, Action, Horror]                   103     Hiatus   6.630  2011\n"
     ]
    }
   ],
   "source": [
    "# read json format\n",
    "anime_file_path = r\"D:\\PandasForDataAnalysis\\datasets\\anime_manga_data.json\"\n",
    "try:\n",
    "    df_anime = pd.read_json(anime_file_path)\n",
    "    print(df_anime.head(10))\n",
    "except FileNotFoundError:\n",
    "    raise FileNotFoundError(\"Sorry, File Path Not Found. Please check the file path\")\n",
    "\n",
    "\n"
   ]
  },
  {
   "cell_type": "code",
   "execution_count": 15,
   "id": "3e88776f",
   "metadata": {},
   "outputs": [
    {
     "data": {
      "application/vnd.microsoft.datawrangler.viewer.v0+json": {
       "columns": [
        {
         "name": "id",
         "rawType": "int64",
         "type": "integer"
        },
        {
         "name": "index",
         "rawType": "int64",
         "type": "integer"
        },
        {
         "name": "title",
         "rawType": "object",
         "type": "string"
        },
        {
         "name": "type",
         "rawType": "object",
         "type": "string"
        },
        {
         "name": "genre",
         "rawType": "object",
         "type": "unknown"
        },
        {
         "name": "episodes_or_chapters",
         "rawType": "int64",
         "type": "integer"
        },
        {
         "name": "status",
         "rawType": "object",
         "type": "string"
        },
        {
         "name": "rating",
         "rawType": "float64",
         "type": "float"
        },
        {
         "name": "year",
         "rawType": "int64",
         "type": "integer"
        }
       ],
       "ref": "a700cf18-d6fb-4f5a-918a-c83b79ce42b0",
       "rows": [
        [
         "1",
         "0",
         "Anime Title 1",
         "Anime",
         "['Action', 'Sci-Fi', 'Adventure']",
         "152",
         "Hiatus",
         "9.09",
         "1993"
        ],
        [
         "2",
         "1",
         "Anime Title 2",
         "Anime",
         "['Romance']",
         "97",
         "Ongoing",
         "6.88",
         "1999"
        ],
        [
         "3",
         "2",
         "Anime Title 3",
         "Manga",
         "['Comedy', 'Mystery']",
         "66",
         "Completed",
         "8.3",
         "2006"
        ],
        [
         "4",
         "3",
         "Anime Title 4",
         "Manga",
         "['Horror', 'Romance', 'Mystery']",
         "193",
         "Completed",
         "9.01",
         "2011"
        ],
        [
         "5",
         "4",
         "Anime Title 5",
         "Manga",
         "['Sci-Fi', 'Mystery', 'Romance']",
         "22",
         "Completed",
         "9.19",
         "2016"
        ]
       ],
       "shape": {
        "columns": 8,
        "rows": 5
       }
      },
      "text/html": [
       "<div>\n",
       "<style scoped>\n",
       "    .dataframe tbody tr th:only-of-type {\n",
       "        vertical-align: middle;\n",
       "    }\n",
       "\n",
       "    .dataframe tbody tr th {\n",
       "        vertical-align: top;\n",
       "    }\n",
       "\n",
       "    .dataframe thead th {\n",
       "        text-align: right;\n",
       "    }\n",
       "</style>\n",
       "<table border=\"1\" class=\"dataframe\">\n",
       "  <thead>\n",
       "    <tr style=\"text-align: right;\">\n",
       "      <th></th>\n",
       "      <th>index</th>\n",
       "      <th>title</th>\n",
       "      <th>type</th>\n",
       "      <th>genre</th>\n",
       "      <th>episodes_or_chapters</th>\n",
       "      <th>status</th>\n",
       "      <th>rating</th>\n",
       "      <th>year</th>\n",
       "    </tr>\n",
       "    <tr>\n",
       "      <th>id</th>\n",
       "      <th></th>\n",
       "      <th></th>\n",
       "      <th></th>\n",
       "      <th></th>\n",
       "      <th></th>\n",
       "      <th></th>\n",
       "      <th></th>\n",
       "      <th></th>\n",
       "    </tr>\n",
       "  </thead>\n",
       "  <tbody>\n",
       "    <tr>\n",
       "      <th>1</th>\n",
       "      <td>0</td>\n",
       "      <td>Anime Title 1</td>\n",
       "      <td>Anime</td>\n",
       "      <td>[Action, Sci-Fi, Adventure]</td>\n",
       "      <td>152</td>\n",
       "      <td>Hiatus</td>\n",
       "      <td>9.090</td>\n",
       "      <td>1993</td>\n",
       "    </tr>\n",
       "    <tr>\n",
       "      <th>2</th>\n",
       "      <td>1</td>\n",
       "      <td>Anime Title 2</td>\n",
       "      <td>Anime</td>\n",
       "      <td>[Romance]</td>\n",
       "      <td>97</td>\n",
       "      <td>Ongoing</td>\n",
       "      <td>6.880</td>\n",
       "      <td>1999</td>\n",
       "    </tr>\n",
       "    <tr>\n",
       "      <th>3</th>\n",
       "      <td>2</td>\n",
       "      <td>Anime Title 3</td>\n",
       "      <td>Manga</td>\n",
       "      <td>[Comedy, Mystery]</td>\n",
       "      <td>66</td>\n",
       "      <td>Completed</td>\n",
       "      <td>8.300</td>\n",
       "      <td>2006</td>\n",
       "    </tr>\n",
       "    <tr>\n",
       "      <th>4</th>\n",
       "      <td>3</td>\n",
       "      <td>Anime Title 4</td>\n",
       "      <td>Manga</td>\n",
       "      <td>[Horror, Romance, Mystery]</td>\n",
       "      <td>193</td>\n",
       "      <td>Completed</td>\n",
       "      <td>9.010</td>\n",
       "      <td>2011</td>\n",
       "    </tr>\n",
       "    <tr>\n",
       "      <th>5</th>\n",
       "      <td>4</td>\n",
       "      <td>Anime Title 5</td>\n",
       "      <td>Manga</td>\n",
       "      <td>[Sci-Fi, Mystery, Romance]</td>\n",
       "      <td>22</td>\n",
       "      <td>Completed</td>\n",
       "      <td>9.190</td>\n",
       "      <td>2016</td>\n",
       "    </tr>\n",
       "  </tbody>\n",
       "</table>\n",
       "</div>"
      ],
      "text/plain": [
       "    index          title   type                        genre  episodes_or_chapters     status  rating  year\n",
       "id                                                                                                         \n",
       "1       0  Anime Title 1  Anime  [Action, Sci-Fi, Adventure]                   152     Hiatus   9.090  1993\n",
       "2       1  Anime Title 2  Anime                    [Romance]                    97    Ongoing   6.880  1999\n",
       "3       2  Anime Title 3  Manga            [Comedy, Mystery]                    66  Completed   8.300  2006\n",
       "4       3  Anime Title 4  Manga   [Horror, Romance, Mystery]                   193  Completed   9.010  2011\n",
       "5       4  Anime Title 5  Manga   [Sci-Fi, Mystery, Romance]                    22  Completed   9.190  2016"
      ]
     },
     "execution_count": 15,
     "metadata": {},
     "output_type": "execute_result"
    }
   ],
   "source": [
    "# set index\n",
    "df_anime = df_anime.reset_index(drop = True)\n",
    "df_anime =df_anime.set_index(\"id\")\n",
    "df_anime.head()"
   ]
  },
  {
   "cell_type": "code",
   "execution_count": null,
   "id": "77da359f",
   "metadata": {},
   "outputs": [],
   "source": []
  }
 ],
 "metadata": {
  "kernelspec": {
   "display_name": "base",
   "language": "python",
   "name": "python3"
  },
  "language_info": {
   "codemirror_mode": {
    "name": "ipython",
    "version": 3
   },
   "file_extension": ".py",
   "mimetype": "text/x-python",
   "name": "python",
   "nbconvert_exporter": "python",
   "pygments_lexer": "ipython3",
   "version": "3.11.7"
  }
 },
 "nbformat": 4,
 "nbformat_minor": 5
}
