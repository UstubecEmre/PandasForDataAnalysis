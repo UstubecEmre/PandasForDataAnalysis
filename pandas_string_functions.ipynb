{
 "cells": [
  {
   "cell_type": "markdown",
   "id": "600cc8fb",
   "metadata": {},
   "source": [
    "# 1. String Functions of Pandas\n",
    "In Pandas, string operations are handled with .str accessor, which allows you to apply vectorized string methods to Series of strings efficiently.\n",
    "\n",
    "# 2. Common Pandas String Functions (.str.)\n",
    "| Function                | Description                                      |\n",
    "|-------------------------|--------------------------------------------------|\n",
    "| `str.lower()`           | Converts all characters to lowercase             |\n",
    "| `str.upper()`           | Converts all characters to uppercase             |\n",
    "| `str.title()`           | Converts to title case (capitalize each word)    |\n",
    "| `str.strip()`           | Removes leading/trailing whitespace              |\n",
    "| `str.replace(old, new)` | Replaces substrings                              |\n",
    "| `str.contains(pattern)` | Returns `True` if string contains pattern        |\n",
    "| `str.startswith('text')`| Checks if string starts with the given text      |\n",
    "| `str.endswith('text')`  | Checks if string ends with the given text        |\n",
    "| `str.len()`             | Returns length of each string                    |\n",
    "| `str.split(' ')`        | Splits each string by the given delimiter        |"
   ]
  },
  {
   "cell_type": "markdown",
   "id": "fa24052d",
   "metadata": {},
   "source": []
  },
  {
   "cell_type": "markdown",
   "id": "4fdb820e",
   "metadata": {},
   "source": []
  }
 ],
 "metadata": {
  "language_info": {
   "name": "python"
  }
 },
 "nbformat": 4,
 "nbformat_minor": 5
}
