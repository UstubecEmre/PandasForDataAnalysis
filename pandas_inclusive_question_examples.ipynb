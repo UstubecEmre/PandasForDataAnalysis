{
 "cells": [
  {
   "cell_type": "markdown",
   "id": "a63b29f8",
   "metadata": {},
   "source": [
    "# Pandas Inclusive Question Examples\n",
    "Please, use the nba_players dataset. If you don't have this dataset, you can download it from this link __[Kaggle NBA Players Since 1950](https://www.kaggle.com/datasets/drgilermo/nba-players-stats)__\n",
    "\n",
    "## Questions you are asked to answer\n",
    "- Question 1: \n",
    "> Select the first 20 record\n",
    "\n",
    "- Question 2: \n",
    "> Get the total number of records\n",
    "\n",
    "- Question 3: \n",
    "> Find the highest paid player\n",
    "\n",
    "- Question 4: \n",
    "> Find the lowest paid player\n",
    "\n",
    "- Question 5: \n",
    "> Find the total salary of all players \n",
    "\n",
    "- Question 6: \n",
    "> Find the average salary of all players\n",
    "\n",
    "- Question 7: \n",
    "> Find the names of players aged between 18 and 22 and the team they play for\n",
    "\n",
    "- Question 8: \n",
    "> Find the team played by Don Carlson\n",
    "\n",
    "- Question 9: \n",
    "> Find average salary information of players by team\n",
    "\n",
    "- Question 10: \n",
    "> Find average AGE information of players by team\n",
    "\n",
    "- Question 11:\n",
    "> Find out how many different teams\n",
    "\n",
    "- Question 12:\n",
    "> Find out how many players play in each team\n",
    "\n",
    "- Question 13:\n",
    "> Find players with 'eb' in their name\n",
    "\n",
    "- Question 14:\n",
    "> Find players whose names start with J\n",
    "\n",
    "- Quote:\n",
    ">>> Please, first try answering it yourself"
   ]
  },
  {
   "cell_type": "markdown",
   "id": "296a4eb9",
   "metadata": {},
   "source": []
  }
 ],
 "metadata": {
  "language_info": {
   "name": "python"
  }
 },
 "nbformat": 4,
 "nbformat_minor": 5
}
