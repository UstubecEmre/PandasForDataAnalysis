{
 "cells": [
  {
   "cell_type": "markdown",
   "id": "a77f880d",
   "metadata": {},
   "source": [
    "# Pandas Dataframe"
   ]
  },
  {
   "cell_type": "code",
   "execution_count": 1,
   "id": "d5dfbf0f",
   "metadata": {},
   "outputs": [],
   "source": [
    "# import Pandas\n",
    "import pandas as pd\n"
   ]
  },
  {
   "cell_type": "code",
   "execution_count": 6,
   "id": "1ffb6b37",
   "metadata": {},
   "outputs": [
    {
     "name": "stdout",
     "output_type": "stream",
     "text": [
      "*************** Pandas Series and DataFrame Operations ***************\n",
      "series1:\n",
      ": 0    1\n",
      "1    7\n",
      "2    2\n",
      "3    8\n",
      "4    3\n",
      "5    9\n",
      "6    4\n",
      "7    5\n",
      "8    6\n",
      "dtype: int64\n",
      "Type of series1 <class 'pandas.core.series.Series'>\n",
      "\n",
      "series2:\n",
      ": 0    11\n",
      "1    77\n",
      "2    22\n",
      "3    88\n",
      "4    30\n",
      "5    90\n",
      "6    44\n",
      "7    55\n",
      "8    60\n",
      "dtype: int64\n",
      "Type of series2 <class 'pandas.core.series.Series'>\n",
      "\n",
      "sum_of_series1:\n",
      ": 0    12\n",
      "1    84\n",
      "2    24\n",
      "3    96\n",
      "4    33\n",
      "5    99\n",
      "6    48\n",
      "7    60\n",
      "8    66\n",
      "dtype: int64\n",
      "Type of series1: <class 'pandas.core.series.Series'>\n"
     ]
    }
   ],
   "source": [
    "# create two pandas series \n",
    "series1 = pd.Series([1, 7, 2, 8, 3, 9, 4, 5, 6])\n",
    "series2 = pd.Series([11, 77, 22, 88, 30, 90, 44, 55, 60])\n",
    "print(\"*************** Pandas Series and DataFrame Operations ***************\")\n",
    "print(f\"series1:\\n: {series1}\\nType of series1 {type(series1)}\\n\")\n",
    "print(f\"series2:\\n: {series2}\\nType of series2 {type(series2)}\\n\")\n",
    "\n",
    "sum_of_series = series1 + series2\n",
    "print(f\"sum_of_series1:\\n: {sum_of_series}\\nType of series1: {type(sum_of_series)}\")\n"
   ]
  },
  {
   "cell_type": "code",
   "execution_count": 10,
   "id": "bbddc50b",
   "metadata": {},
   "outputs": [
    {
     "name": "stdout",
     "output_type": "stream",
     "text": [
      "****** Amount of Fruits******\n",
      "   mangoes  pineapples\n",
      "0      100          52\n",
      "1      150          14\n",
      "2       75          96\n",
      "3      200          47\n",
      "4       30           7\n",
      "5       10          84\n"
     ]
    }
   ],
   "source": [
    "amount_1 = pd.Series([100, 150, 75, 200, 30, 10])\n",
    "amount_2 = pd.Series([52, 14, 96, 47, 7, 84])\n",
    "\n",
    "# create a dictionary\n",
    "fruits_dict = dict(mangoes = amount_1, pineapples = amount_2)\n",
    "\n",
    "df_fruits = pd.DataFrame(fruits_dict)\n",
    "print(f\"****** Amount of Fruits******\\n{df_fruits}\") "
   ]
  },
  {
   "cell_type": "code",
   "execution_count": 11,
   "id": "c847a144",
   "metadata": {},
   "outputs": [
    {
     "name": "stdout",
     "output_type": "stream",
     "text": [
      "Empty DataFrame\n",
      "Columns: []\n",
      "Index: []\n"
     ]
    }
   ],
   "source": [
    "empty_df = pd.DataFrame()\n",
    "print(empty_df)"
   ]
  },
  {
   "cell_type": "code",
   "execution_count": 14,
   "id": "56d8f9ee",
   "metadata": {},
   "outputs": [
    {
     "name": "stdout",
     "output_type": "stream",
     "text": [
      "       Name\n",
      "0      Emre\n",
      "1       Ece\n",
      "2     Erdal\n",
      "3     Fasıl\n",
      "4     Necmi\n",
      "5      Ziya\n",
      "6    Mehmet\n",
      "7      Ayşe\n",
      "8   Makbule\n",
      "9     Derin\n",
      "10     Ezgi\n"
     ]
    }
   ],
   "source": [
    "df_names = pd.DataFrame([\"Emre\",\"Ece\",\"Erdal\",\"Fasıl\",\"Necmi\",\"Ziya\",\"Mehmet\", \"Ayşe\",\"Makbule\",\"Derin\",\"Ezgi\"], columns = [\"Name\"])\n",
    "print(df_names)"
   ]
  },
  {
   "cell_type": "code",
   "execution_count": null,
   "id": "74196357",
   "metadata": {},
   "outputs": [
    {
     "name": "stdout",
     "output_type": "stream",
     "text": [
      "************************ Employee Details ************************\n",
      "\n",
      "      Name  Salary                    Position\n",
      "1     Emre   25000              Data Scientist\n",
      "2    Azize   36000  Human Resources Specialist\n",
      "3    Erdal   42000        Financial Specialist\n",
      "4  Züleyha   22000            Graphic Designer\n",
      "5      Ece   54000           Data Architecture \n",
      "\n",
      "******************************************************************\n"
     ]
    }
   ],
   "source": [
    "employees_data = [[\"Emre\", 25000,\"Data Scientist\"], [\"Azize\", 36000, \"Human Resources Specialist\"], [\"Erdal\", 42000,\"Financial Specialist\"], [\"Züleyha\", 22000, \"Graphic Designer\"], [\"Ece\",54000, \"Data Architecture\"]]\n",
    "df_employees= pd.DataFrame(employees_data, columns = [\"Name\",\"Salary\",\"Position\"], index = [1, 2, 3, 4, 5]) \n",
    "print(\"************************ Employee Details ************************\\n\")\n",
    "print(df_employees,\"\\n\")\n",
    "print(\"*\"*len(\"************************ Employee Details ************************\"))\n",
    "\n",
    "# default parameter sort => data, index, columns\n"
   ]
  },
  {
   "cell_type": "code",
   "execution_count": 26,
   "id": "dd0491fd",
   "metadata": {},
   "outputs": [
    {
     "name": "stdout",
     "output_type": "stream",
     "text": [
      "***************************** The Other Way *****************************\n",
      "      Name  Salary                    Position\n",
      "0     Emre   25000              Data Scientist\n",
      "1    Azize   36000  Human Resources Specialist\n",
      "2    Erdal   42000        Financial Specialist\n",
      "3  Züleyha   22000            Graphic Designer\n",
      "4      Ece   54000           Data Architecture\n",
      "*************************************************************************\n"
     ]
    }
   ],
   "source": [
    "employee_dict = {\n",
    "    \"Name\": [\"Emre\", \"Azize\", \"Erdal\", \"Züleyha\", \"Ece\"],\n",
    "    \"Salary\": [25000, 36000, 42000, 22000, 54000],\n",
    "    \"Position\": [\"Data Scientist\", \"Human Resources Specialist\", \"Financial Specialist\", \"Graphic Designer\", \"Data Architecture\"]\n",
    "}\n",
    "print(\"***************************** The Other Way *****************************\")\n",
    "df_employee_dict = pd.DataFrame(employee_dict)\n",
    "print(df_employee_dict)\n",
    "print(\"*\"*73)"
   ]
  },
  {
   "cell_type": "code",
   "execution_count": 27,
   "id": "12d321fa",
   "metadata": {},
   "outputs": [
    {
     "name": "stdout",
     "output_type": "stream",
     "text": [
      "  Football Team  Number of Championships\n",
      "0   Galatasaray                       25\n",
      "1    Fenerbahçe                       19\n",
      "2      Beşiktaş                       16\n",
      "3   Trabzonspor                        7\n",
      "4    Başakşehir                        1\n",
      "5     Bursaspor                        1\n"
     ]
    }
   ],
   "source": [
    "list_example = [\n",
    "    {\"Football Team\": \"Galatasaray\", \"Number of Championships\": 25},\n",
    "    {\"Football Team\": \"Fenerbahçe\", \"Number of Championships\": 19},\n",
    "    {\"Football Team\": \"Beşiktaş\", \"Number of Championships\": 16},\n",
    "    {\"Football Team\": \"Trabzonspor\", \"Number of Championships\": 7},\n",
    "    {\"Football Team\": \"Başakşehir\", \"Number of Championships\": 1},\n",
    "    {\"Football Team\": \"Bursaspor\", \"Number of Championships\": 1}\n",
    "]\n",
    "\n",
    "df_teams = pd.DataFrame(list_example)\n",
    "print(df_teams)\n"
   ]
  },
  {
   "cell_type": "code",
   "execution_count": null,
   "id": "f32f4970",
   "metadata": {},
   "outputs": [],
   "source": []
  }
 ],
 "metadata": {
  "kernelspec": {
   "display_name": "base",
   "language": "python",
   "name": "python3"
  },
  "language_info": {
   "codemirror_mode": {
    "name": "ipython",
    "version": 3
   },
   "file_extension": ".py",
   "mimetype": "text/x-python",
   "name": "python",
   "nbconvert_exporter": "python",
   "pygments_lexer": "ipython3",
   "version": "3.11.7"
  }
 },
 "nbformat": 4,
 "nbformat_minor": 5
}
