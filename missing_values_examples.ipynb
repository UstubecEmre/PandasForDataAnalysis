{
 "cells": [
  {
   "cell_type": "markdown",
   "id": "aacde62d",
   "metadata": {},
   "source": [
    "# 1. What Are Missing Values in Data ?\n",
    "o Missing values are entries in your dataset where no data is recorded for a certain variable or feature. These are often represented as:\n",
    "\n",
    "o NaN (Not a Number) in NumPy/Pandas\n",
    "\n",
    "o None in Python\n",
    "\n",
    "o Empty strings (\"\") or other placeholders like -, ?, or 534\n",
    "\n",
    "# 2. Why Do Missing Values Occur?\n",
    "Here are some common reasons:\n",
    "\n",
    "📋 Data was not recorded: The user skipped a question in a survey.\n",
    "\n",
    "❌ Error in data collection: Sensor failed to record data.\n",
    "\n",
    "📤 Data was lost during transfer or scraping.\n",
    "\n",
    "🧪 Not applicable: e.g., a \"spouse's name\" for someone who is single.\n",
    "\n",
    "\n"
   ]
  }
 ],
 "metadata": {
  "language_info": {
   "name": "python"
  }
 },
 "nbformat": 4,
 "nbformat_minor": 5
}
