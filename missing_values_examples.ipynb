{
 "cells": [
  {
   "cell_type": "markdown",
   "id": "aacde62d",
   "metadata": {},
   "source": [
    "# 1. What Are Missing Values in Data ?\n",
    "o Missing values are entries in your dataset where no data is recorded for a certain variable or feature. These are often represented as:\n",
    "\n",
    "o NaN (Not a Number) in NumPy/Pandas\n",
    "\n",
    "o None in Python\n",
    "\n",
    "o Empty strings (\"\") or other placeholders like -, ?, or 534\n",
    "\n",
    "# 2. Why Do Missing Values Occur?\n",
    "Here are some common reasons:\n",
    "\n",
    "📋 Data was not recorded: The user skipped a question in a survey.\n",
    "\n",
    "❌ Error in data collection: Sensor failed to record data.\n",
    "\n",
    "📤 Data was lost during transfer or scraping.\n",
    "\n",
    "🧪 Not applicable: e.g., a \"spouse's name\" for someone who is single.\n",
    "\n",
    "\n"
   ]
  },
  {
   "cell_type": "code",
   "execution_count": 1,
   "id": "2fe1d10e",
   "metadata": {},
   "outputs": [],
   "source": [
    "# import libraries\n",
    "import pandas as pd\n",
    "import numpy as np\n"
   ]
  },
  {
   "cell_type": "code",
   "execution_count": 2,
   "id": "583e1dd2",
   "metadata": {},
   "outputs": [
    {
     "data": {
      "application/vnd.microsoft.datawrangler.viewer.v0+json": {
       "columns": [
        {
         "name": "index",
         "rawType": "int64",
         "type": "integer"
        },
        {
         "name": "Name",
         "rawType": "object",
         "type": "unknown"
        },
        {
         "name": "City",
         "rawType": "object",
         "type": "string"
        },
        {
         "name": "Occupation",
         "rawType": "object",
         "type": "unknown"
        },
        {
         "name": "Salary",
         "rawType": "float64",
         "type": "float"
        },
        {
         "name": "Age",
         "rawType": "float64",
         "type": "float"
        }
       ],
       "ref": "305f2d55-70eb-46ff-852c-88bd1e14ff9f",
       "rows": [
        [
         "0",
         "Grace",
         "Phoenix",
         null,
         "70000.0",
         "25.0"
        ],
        [
         "1",
         "David",
         "New York",
         "Lawyer",
         "80000.0",
         "45.0"
        ],
        [
         "2",
         null,
         "Los Angeles",
         "Engineer",
         null,
         "50.0"
        ],
        [
         "3",
         "Hannah",
         "Houston",
         null,
         "70000.0",
         "40.0"
        ],
        [
         "4",
         "Eva",
         "New York",
         "Artist",
         "70000.0",
         "40.0"
        ]
       ],
       "shape": {
        "columns": 5,
        "rows": 5
       }
      },
      "text/html": [
       "<div>\n",
       "<style scoped>\n",
       "    .dataframe tbody tr th:only-of-type {\n",
       "        vertical-align: middle;\n",
       "    }\n",
       "\n",
       "    .dataframe tbody tr th {\n",
       "        vertical-align: top;\n",
       "    }\n",
       "\n",
       "    .dataframe thead th {\n",
       "        text-align: right;\n",
       "    }\n",
       "</style>\n",
       "<table border=\"1\" class=\"dataframe\">\n",
       "  <thead>\n",
       "    <tr style=\"text-align: right;\">\n",
       "      <th></th>\n",
       "      <th>Name</th>\n",
       "      <th>City</th>\n",
       "      <th>Occupation</th>\n",
       "      <th>Salary</th>\n",
       "      <th>Age</th>\n",
       "    </tr>\n",
       "  </thead>\n",
       "  <tbody>\n",
       "    <tr>\n",
       "      <th>0</th>\n",
       "      <td>Grace</td>\n",
       "      <td>Phoenix</td>\n",
       "      <td>NaN</td>\n",
       "      <td>70000.0</td>\n",
       "      <td>25.0</td>\n",
       "    </tr>\n",
       "    <tr>\n",
       "      <th>1</th>\n",
       "      <td>David</td>\n",
       "      <td>New York</td>\n",
       "      <td>Lawyer</td>\n",
       "      <td>80000.0</td>\n",
       "      <td>45.0</td>\n",
       "    </tr>\n",
       "    <tr>\n",
       "      <th>2</th>\n",
       "      <td>NaN</td>\n",
       "      <td>Los Angeles</td>\n",
       "      <td>Engineer</td>\n",
       "      <td>NaN</td>\n",
       "      <td>50.0</td>\n",
       "    </tr>\n",
       "    <tr>\n",
       "      <th>3</th>\n",
       "      <td>Hannah</td>\n",
       "      <td>Houston</td>\n",
       "      <td>NaN</td>\n",
       "      <td>70000.0</td>\n",
       "      <td>40.0</td>\n",
       "    </tr>\n",
       "    <tr>\n",
       "      <th>4</th>\n",
       "      <td>Eva</td>\n",
       "      <td>New York</td>\n",
       "      <td>Artist</td>\n",
       "      <td>70000.0</td>\n",
       "      <td>40.0</td>\n",
       "    </tr>\n",
       "  </tbody>\n",
       "</table>\n",
       "</div>"
      ],
      "text/plain": [
       "     Name         City Occupation   Salary   Age\n",
       "0   Grace      Phoenix        NaN  70000.0  25.0\n",
       "1   David     New York     Lawyer  80000.0  45.0\n",
       "2     NaN  Los Angeles   Engineer      NaN  50.0\n",
       "3  Hannah      Houston        NaN  70000.0  40.0\n",
       "4     Eva     New York     Artist  70000.0  40.0"
      ]
     },
     "execution_count": 2,
     "metadata": {},
     "output_type": "execute_result"
    }
   ],
   "source": [
    "# load dataset\n",
    "dataset_path = r\"D:\\PandasForDataAnalysis\\datasets\\missing_values_dataset.csv\"\n",
    "\n",
    "# check the file path or DataFrame\n",
    "df = pd.read_csv(dataset_path)\n",
    "if df is None:\n",
    "    raise FileNotFoundError(\"File Path Not Found. Please Check The File Path\")\n",
    "\n",
    "# show first 5 rows\n",
    "df.head()\n"
   ]
  },
  {
   "cell_type": "code",
   "execution_count": null,
   "id": "514d737e",
   "metadata": {},
   "outputs": [],
   "source": [
    "# drop the column\n",
    "# new_df = df.drop(\"column1\", axis = 1)  | df.drop([\"Column1\",\"Column2\"],axis = 1)"
   ]
  },
  {
   "cell_type": "code",
   "execution_count": 6,
   "id": "e8dbf49d",
   "metadata": {},
   "outputs": [
    {
     "name": "stdout",
     "output_type": "stream",
     "text": [
      "Sum of null values:\n",
      " Name          5\n",
      "City          8\n",
      "Occupation    3\n",
      "Salary        6\n",
      "Age           4\n",
      "dtype: int64\n"
     ]
    }
   ],
   "source": [
    "# isnull()\n",
    "df.isnull()\n",
    "# df.notnull()\n",
    "\n",
    "# sum of null values\n",
    "sum_of_null = df.isnull().sum()\n",
    "print(f\"Sum of null values:\\n {sum_of_null}\") "
   ]
  },
  {
   "cell_type": "code",
   "execution_count": 7,
   "id": "0779326c",
   "metadata": {},
   "outputs": [
    {
     "name": "stdout",
     "output_type": "stream",
     "text": [
      "******************* Missing Values of Name Column *******************\n",
      "Is there missing values? \n",
      " 0     False\n",
      "1     False\n",
      "2      True\n",
      "3     False\n",
      "4     False\n",
      "5     False\n",
      "6     False\n",
      "7     False\n",
      "8     False\n",
      "9      True\n",
      "10     True\n",
      "11    False\n",
      "12    False\n",
      "13    False\n",
      "14    False\n",
      "15    False\n",
      "16    False\n",
      "17    False\n",
      "18    False\n",
      "19    False\n",
      "20    False\n",
      "21    False\n",
      "22    False\n",
      "23    False\n",
      "24    False\n",
      "25    False\n",
      "26    False\n",
      "27    False\n",
      "28    False\n",
      "29     True\n",
      "30     True\n",
      "31    False\n",
      "32    False\n",
      "33    False\n",
      "34    False\n",
      "35    False\n",
      "36    False\n",
      "37    False\n",
      "38    False\n",
      "39    False\n",
      "Name: Name, dtype: bool\n",
      "\n",
      "Total missing values of name column: 5\n",
      "\n",
      "*********************************************************************\n"
     ]
    }
   ],
   "source": [
    "#select the specific column\n",
    "\n",
    "name_missing_values = df[\"Name\"].isnull()\n",
    "sum_of_name_missing = df[\"Name\"].isnull().sum()\n",
    "\n",
    "print(\"******************* Missing Values of Name Column *******************\")\n",
    "print(f\"Is there missing values? \\n {name_missing_values}\\n\")\n",
    "print(f\"Total missing values of name column: {sum_of_name_missing}\\n\")\n",
    "print(\"*\"*len(\"******************* Missing Values of Name Column *******************\")) "
   ]
  },
  {
   "cell_type": "code",
   "execution_count": 9,
   "id": "884b93d1",
   "metadata": {},
   "outputs": [
    {
     "name": "stdout",
     "output_type": "stream",
     "text": [
      "      Name         City Occupation   Salary  Age\n",
      "12     Eva  Los Angeles     Lawyer  60000.0  NaN\n",
      "15  Hannah      Houston     Artist  50000.0  NaN\n",
      "27    Ivan          NaN   Engineer  90000.0  NaN\n",
      "37     Eva          NaN   Engineer  60000.0  NaN\n"
     ]
    }
   ],
   "source": [
    "age_nan_rows = df[df[\"Age\"].isnull()]\n",
    "print(age_nan_rows)"
   ]
  },
  {
   "cell_type": "code",
   "execution_count": 11,
   "id": "507983af",
   "metadata": {},
   "outputs": [
    {
     "name": "stdout",
     "output_type": "stream",
     "text": [
      "     Name   Age\n",
      "2     NaN  50.0\n",
      "8   Grace  50.0\n",
      "13  David  40.0\n",
      "25   Jane  25.0\n",
      "34  David  35.0\n",
      "39  Grace  50.0\n"
     ]
    }
   ],
   "source": [
    "salary_nan_rows = df[df[\"Salary\"].isnull()][[\"Name\",\"Age\"]]\n",
    "print(salary_nan_rows)"
   ]
  },
  {
   "cell_type": "code",
   "execution_count": null,
   "id": "012891e2",
   "metadata": {},
   "outputs": [
    {
     "data": {
      "application/vnd.microsoft.datawrangler.viewer.v0+json": {
       "columns": [
        {
         "name": "index",
         "rawType": "int64",
         "type": "integer"
        },
        {
         "name": "Name",
         "rawType": "object",
         "type": "string"
        },
        {
         "name": "City",
         "rawType": "object",
         "type": "string"
        },
        {
         "name": "Occupation",
         "rawType": "object",
         "type": "string"
        },
        {
         "name": "Salary",
         "rawType": "float64",
         "type": "float"
        },
        {
         "name": "Age",
         "rawType": "float64",
         "type": "float"
        }
       ],
       "ref": "43193af3-fc2a-486b-85cb-ae661d3a5e17",
       "rows": [
        [
         "1",
         "David",
         "New York",
         "Lawyer",
         "80000.0",
         "45.0"
        ],
        [
         "4",
         "Eva",
         "New York",
         "Artist",
         "70000.0",
         "40.0"
        ],
        [
         "5",
         "Grace",
         "Houston",
         "Artist",
         "50000.0",
         "40.0"
        ],
        [
         "7",
         "Charlie",
         "Los Angeles",
         "Artist",
         "90000.0",
         "40.0"
        ],
        [
         "11",
         "Hannah",
         "Phoenix",
         "Lawyer",
         "90000.0",
         "30.0"
        ],
        [
         "14",
         "Hannah",
         "Houston",
         "Engineer",
         "70000.0",
         "25.0"
        ],
        [
         "16",
         "Charlie",
         "Houston",
         "Artist",
         "60000.0",
         "50.0"
        ],
        [
         "17",
         "Frank",
         "Phoenix",
         "Engineer",
         "60000.0",
         "25.0"
        ],
        [
         "18",
         "Eva",
         "Chicago",
         "Engineer",
         "80000.0",
         "25.0"
        ],
        [
         "20",
         "Hannah",
         "New York",
         "Engineer",
         "70000.0",
         "35.0"
        ]
       ],
       "shape": {
        "columns": 5,
        "rows": 10
       }
      },
      "text/html": [
       "<div>\n",
       "<style scoped>\n",
       "    .dataframe tbody tr th:only-of-type {\n",
       "        vertical-align: middle;\n",
       "    }\n",
       "\n",
       "    .dataframe tbody tr th {\n",
       "        vertical-align: top;\n",
       "    }\n",
       "\n",
       "    .dataframe thead th {\n",
       "        text-align: right;\n",
       "    }\n",
       "</style>\n",
       "<table border=\"1\" class=\"dataframe\">\n",
       "  <thead>\n",
       "    <tr style=\"text-align: right;\">\n",
       "      <th></th>\n",
       "      <th>Name</th>\n",
       "      <th>City</th>\n",
       "      <th>Occupation</th>\n",
       "      <th>Salary</th>\n",
       "      <th>Age</th>\n",
       "    </tr>\n",
       "  </thead>\n",
       "  <tbody>\n",
       "    <tr>\n",
       "      <th>1</th>\n",
       "      <td>David</td>\n",
       "      <td>New York</td>\n",
       "      <td>Lawyer</td>\n",
       "      <td>80000.0</td>\n",
       "      <td>45.0</td>\n",
       "    </tr>\n",
       "    <tr>\n",
       "      <th>4</th>\n",
       "      <td>Eva</td>\n",
       "      <td>New York</td>\n",
       "      <td>Artist</td>\n",
       "      <td>70000.0</td>\n",
       "      <td>40.0</td>\n",
       "    </tr>\n",
       "    <tr>\n",
       "      <th>5</th>\n",
       "      <td>Grace</td>\n",
       "      <td>Houston</td>\n",
       "      <td>Artist</td>\n",
       "      <td>50000.0</td>\n",
       "      <td>40.0</td>\n",
       "    </tr>\n",
       "    <tr>\n",
       "      <th>7</th>\n",
       "      <td>Charlie</td>\n",
       "      <td>Los Angeles</td>\n",
       "      <td>Artist</td>\n",
       "      <td>90000.0</td>\n",
       "      <td>40.0</td>\n",
       "    </tr>\n",
       "    <tr>\n",
       "      <th>11</th>\n",
       "      <td>Hannah</td>\n",
       "      <td>Phoenix</td>\n",
       "      <td>Lawyer</td>\n",
       "      <td>90000.0</td>\n",
       "      <td>30.0</td>\n",
       "    </tr>\n",
       "    <tr>\n",
       "      <th>14</th>\n",
       "      <td>Hannah</td>\n",
       "      <td>Houston</td>\n",
       "      <td>Engineer</td>\n",
       "      <td>70000.0</td>\n",
       "      <td>25.0</td>\n",
       "    </tr>\n",
       "    <tr>\n",
       "      <th>16</th>\n",
       "      <td>Charlie</td>\n",
       "      <td>Houston</td>\n",
       "      <td>Artist</td>\n",
       "      <td>60000.0</td>\n",
       "      <td>50.0</td>\n",
       "    </tr>\n",
       "    <tr>\n",
       "      <th>17</th>\n",
       "      <td>Frank</td>\n",
       "      <td>Phoenix</td>\n",
       "      <td>Engineer</td>\n",
       "      <td>60000.0</td>\n",
       "      <td>25.0</td>\n",
       "    </tr>\n",
       "    <tr>\n",
       "      <th>18</th>\n",
       "      <td>Eva</td>\n",
       "      <td>Chicago</td>\n",
       "      <td>Engineer</td>\n",
       "      <td>80000.0</td>\n",
       "      <td>25.0</td>\n",
       "    </tr>\n",
       "    <tr>\n",
       "      <th>20</th>\n",
       "      <td>Hannah</td>\n",
       "      <td>New York</td>\n",
       "      <td>Engineer</td>\n",
       "      <td>70000.0</td>\n",
       "      <td>35.0</td>\n",
       "    </tr>\n",
       "  </tbody>\n",
       "</table>\n",
       "</div>"
      ],
      "text/plain": [
       "       Name         City Occupation   Salary   Age\n",
       "1     David     New York     Lawyer  80000.0  45.0\n",
       "4       Eva     New York     Artist  70000.0  40.0\n",
       "5     Grace      Houston     Artist  50000.0  40.0\n",
       "7   Charlie  Los Angeles     Artist  90000.0  40.0\n",
       "11   Hannah      Phoenix     Lawyer  90000.0  30.0\n",
       "14   Hannah      Houston   Engineer  70000.0  25.0\n",
       "16  Charlie      Houston     Artist  60000.0  50.0\n",
       "17    Frank      Phoenix   Engineer  60000.0  25.0\n",
       "18      Eva      Chicago   Engineer  80000.0  25.0\n",
       "20   Hannah     New York   Engineer  70000.0  35.0"
      ]
     },
     "execution_count": 14,
     "metadata": {},
     "output_type": "execute_result"
    }
   ],
   "source": [
    "# dropna()  axis = 0 => row, axis = 1 => column\n",
    "df_copy = df.copy()\n",
    "# df.dropna(), df.dropna(axis = 1)\n",
    "# df_copy = df_copy.dropna(axis = 1)\n",
    "\n",
    "# using of dropna(how = \"any\") \n",
    "df_copy = df_copy.dropna(how= \"any\")\n",
    "df_copy.head(10)\n",
    "# df.dropna"
   ]
  },
  {
   "cell_type": "code",
   "execution_count": null,
   "id": "e56b63d4",
   "metadata": {},
   "outputs": [
    {
     "name": "stdout",
     "output_type": "stream",
     "text": [
      "       Name         City Occupation   Salary   Age\n",
      "0     Grace      Phoenix        NaN  70000.0  25.0\n",
      "1     David     New York     Lawyer  80000.0  45.0\n",
      "2       NaN  Los Angeles   Engineer      NaN  50.0\n",
      "3    Hannah      Houston        NaN  70000.0  40.0\n",
      "4       Eva     New York     Artist  70000.0  40.0\n",
      "5     Grace      Houston     Artist  50000.0  40.0\n",
      "6      Jane          NaN     Doctor  70000.0  40.0\n",
      "7   Charlie  Los Angeles     Artist  90000.0  40.0\n",
      "8     Grace  Los Angeles     Doctor      NaN  50.0\n",
      "9       NaN     New York   Engineer  70000.0  50.0\n",
      "10      NaN  Los Angeles     Lawyer  50000.0  35.0\n",
      "11   Hannah      Phoenix     Lawyer  90000.0  30.0\n",
      "12      Eva  Los Angeles     Lawyer  60000.0   NaN\n",
      "13    David      Houston     Artist      NaN  40.0\n",
      "14   Hannah      Houston   Engineer  70000.0  25.0\n",
      "15   Hannah      Houston     Artist  50000.0   NaN\n",
      "16  Charlie      Houston     Artist  60000.0  50.0\n",
      "17    Frank      Phoenix   Engineer  60000.0  25.0\n",
      "18      Eva      Chicago   Engineer  80000.0  25.0\n",
      "19      Bob          NaN   Engineer  90000.0  25.0\n",
      "20   Hannah     New York   Engineer  70000.0  35.0\n",
      "21    Frank      Houston     Lawyer  50000.0  50.0\n",
      "22      Bob  Los Angeles    Teacher  80000.0  25.0\n",
      "23      Eva      Houston    Teacher  90000.0  40.0\n",
      "24    Alice  Los Angeles   Engineer  80000.0  45.0\n",
      "25     Jane          NaN    Teacher      NaN  25.0\n",
      "26    Frank          NaN    Teacher  90000.0  35.0\n",
      "27     Ivan          NaN   Engineer  90000.0   NaN\n",
      "28    Alice  Los Angeles    Teacher  70000.0  50.0\n",
      "29      NaN      Houston     Artist  90000.0  35.0\n",
      "30      NaN          NaN     Doctor  80000.0  25.0\n",
      "31     Jane      Phoenix     Doctor  90000.0  50.0\n",
      "32  Charlie  Los Angeles   Engineer  70000.0  45.0\n",
      "33    Grace  Los Angeles     Lawyer  70000.0  25.0\n",
      "34    David      Houston   Engineer      NaN  35.0\n",
      "35     Ivan  Los Angeles     Lawyer  80000.0  30.0\n",
      "36  Charlie  Los Angeles     Doctor  60000.0  40.0\n",
      "37      Eva          NaN   Engineer  60000.0   NaN\n",
      "38  Charlie      Houston        NaN  90000.0  35.0\n",
      "39    Grace          NaN     Artist      NaN  50.0\n"
     ]
    }
   ],
   "source": [
    "#using of dropna(how = \"all\")\n",
    "df_copy2 = df.copy()\n",
    "df_copy2 = df_copy2.dropna(how = \"all\")\n",
    "print(df_copy2)"
   ]
  },
  {
   "cell_type": "code",
   "execution_count": null,
   "id": "77ffd604",
   "metadata": {},
   "outputs": [
    {
     "name": "stdout",
     "output_type": "stream",
     "text": [
      "       Name         City Occupation   Salary   Age\n",
      "0     Grace      Phoenix        NaN  70000.0  25.0\n",
      "1     David     New York     Lawyer  80000.0  45.0\n",
      "2       NaN  Los Angeles   Engineer      NaN  50.0\n",
      "3    Hannah      Houston        NaN  70000.0  40.0\n",
      "4       Eva     New York     Artist  70000.0  40.0\n",
      "5     Grace      Houston     Artist  50000.0  40.0\n",
      "6      Jane          NaN     Doctor  70000.0  40.0\n",
      "7   Charlie  Los Angeles     Artist  90000.0  40.0\n",
      "8     Grace  Los Angeles     Doctor      NaN  50.0\n",
      "9       NaN     New York   Engineer  70000.0  50.0\n",
      "10      NaN  Los Angeles     Lawyer  50000.0  35.0\n",
      "11   Hannah      Phoenix     Lawyer  90000.0  30.0\n",
      "12      Eva  Los Angeles     Lawyer  60000.0   NaN\n",
      "13    David      Houston     Artist      NaN  40.0\n",
      "14   Hannah      Houston   Engineer  70000.0  25.0\n",
      "15   Hannah      Houston     Artist  50000.0   NaN\n",
      "16  Charlie      Houston     Artist  60000.0  50.0\n",
      "17    Frank      Phoenix   Engineer  60000.0  25.0\n",
      "18      Eva      Chicago   Engineer  80000.0  25.0\n",
      "19      Bob          NaN   Engineer  90000.0  25.0 \n",
      "\n",
      "***************************************************************************\n",
      "       Name         City Occupation   Salary   Age\n",
      "1     David     New York     Lawyer  80000.0  45.0\n",
      "4       Eva     New York     Artist  70000.0  40.0\n",
      "5     Grace      Houston     Artist  50000.0  40.0\n",
      "6      Jane          NaN     Doctor  70000.0  40.0\n",
      "7   Charlie  Los Angeles     Artist  90000.0  40.0\n",
      "8     Grace  Los Angeles     Doctor      NaN  50.0\n",
      "11   Hannah      Phoenix     Lawyer  90000.0  30.0\n",
      "12      Eva  Los Angeles     Lawyer  60000.0   NaN\n",
      "13    David      Houston     Artist      NaN  40.0\n",
      "14   Hannah      Houston   Engineer  70000.0  25.0\n",
      "15   Hannah      Houston     Artist  50000.0   NaN\n",
      "16  Charlie      Houston     Artist  60000.0  50.0\n",
      "17    Frank      Phoenix   Engineer  60000.0  25.0\n",
      "18      Eva      Chicago   Engineer  80000.0  25.0\n",
      "19      Bob          NaN   Engineer  90000.0  25.0\n",
      "20   Hannah     New York   Engineer  70000.0  35.0\n",
      "21    Frank      Houston     Lawyer  50000.0  50.0\n",
      "22      Bob  Los Angeles    Teacher  80000.0  25.0\n",
      "23      Eva      Houston    Teacher  90000.0  40.0\n",
      "24    Alice  Los Angeles   Engineer  80000.0  45.0\n",
      "25     Jane          NaN    Teacher      NaN  25.0\n",
      "26    Frank          NaN    Teacher  90000.0  35.0\n",
      "27     Ivan          NaN   Engineer  90000.0   NaN\n",
      "28    Alice  Los Angeles    Teacher  70000.0  50.0\n",
      "31     Jane      Phoenix     Doctor  90000.0  50.0\n",
      "32  Charlie  Los Angeles   Engineer  70000.0  45.0\n",
      "33    Grace  Los Angeles     Lawyer  70000.0  25.0\n",
      "34    David      Houston   Engineer      NaN  35.0\n",
      "35     Ivan  Los Angeles     Lawyer  80000.0  30.0\n",
      "36  Charlie  Los Angeles     Doctor  60000.0  40.0\n",
      "37      Eva          NaN   Engineer  60000.0   NaN\n",
      "39    Grace          NaN     Artist      NaN  50.0 \n",
      "\n"
     ]
    }
   ],
   "source": [
    "# using of subset parameter\n",
    "subset_example1 = df.dropna(subset= [\"Age\",\"Salary\"], how = \"all\").head(20)\n",
    "print(subset_example1,\"\\n\")\n",
    "\n",
    "print(\"*\"*75)\n",
    "subset_example2 = df.dropna(subset = [\"Name\",\"Occupation\"], how = \"any\")\n",
    "print(subset_example2,\"\\n\")\n"
   ]
  },
  {
   "cell_type": "code",
   "execution_count": null,
   "id": "7142ae24",
   "metadata": {},
   "outputs": [],
   "source": [
    "# thresh parameter in dropna\n",
    "thresh_example1 = df.dropna(thresh= 4)\n",
    "print(thresh_example1,\"\\n\")\n",
    "print(\"*\"*50)\n",
    "\n",
    "thres_example2 = df.dropna(thresh = 5)\n",
    "print(thres_example2)\n",
    "print(\"*\"*50)"
   ]
  }
 ],
 "metadata": {
  "kernelspec": {
   "display_name": "base",
   "language": "python",
   "name": "python3"
  },
  "language_info": {
   "codemirror_mode": {
    "name": "ipython",
    "version": 3
   },
   "file_extension": ".py",
   "mimetype": "text/x-python",
   "name": "python",
   "nbconvert_exporter": "python",
   "pygments_lexer": "ipython3",
   "version": "3.11.7"
  }
 },
 "nbformat": 4,
 "nbformat_minor": 5
}
