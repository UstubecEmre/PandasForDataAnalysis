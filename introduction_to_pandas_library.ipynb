{
 "cells": [
  {
   "cell_type": "markdown",
   "id": "faccad84",
   "metadata": {},
   "source": [
    "# 1. What is the Pandas library?\n",
    "✅ Pandas is an open-source Python library used for data manipulation, analysis, and cleaning.\n",
    "\n",
    "✅ It provides two main data structures:\n",
    "\n",
    "--> Series – one-dimensional labeled array (like a column).\n",
    "\n",
    "--> DataFrame – two-dimensional table (like a spreadsheet or SQL table).\n",
    "\n",
    "✅ Built on top of NumPy, making it efficient for numerical operations.\n",
    "\n",
    "✅ Commonly used in data science, machine learning, and data analysis projects.\n",
    "\n",
    "# 2. Why should we learn Pandas? \n",
    "🔍 Easy Data Exploration: View, summarize, and understand datasets quickly.\n",
    "\n",
    "🧹 Powerful Data Cleaning: Handle missing values, duplicates, inconsistent formats.\n",
    "\n",
    "📊 Tabular Data Handling: Ideal for working with rows and columns, like Excel or CSV files.\n",
    "\n",
    "🔄 Data Transformation: Filter, sort, group, and merge datasets easily.\n",
    "\n",
    "📁 Reads/Writes Many Formats: Supports CSV, Excel, SQL, JSON, Parquet, etc.\n",
    "\n",
    "🚀 Works Well with Other Libraries: Integrates with NumPy, Matplotlib, Scikit-learn, etc.\n",
    "\n",
    "💡 Industry Standard: Used by professionals in data science, finance, marketing, and research.\n",
    "\n",
    "🧪 Efficient for Large Datasets: Can handle millions of rows with good performance.\n"
   ]
  },
  {
   "cell_type": "markdown",
   "id": "63967e25",
   "metadata": {},
   "source": []
  },
  {
   "cell_type": "code",
   "execution_count": 1,
   "id": "c5f94029",
   "metadata": {},
   "outputs": [],
   "source": [
    "# install pandas => pip install pandas\n",
    "# import pandas \n",
    "import pandas as pd "
   ]
  },
  {
   "cell_type": "code",
   "execution_count": null,
   "id": "5ccb1b9f",
   "metadata": {},
   "outputs": [
    {
     "name": "stdout",
     "output_type": "stream",
     "text": [
      "********* Introduction to Pandas Series *********\n",
      "\n",
      "Numbers Series:\n",
      "0    24\n",
      "1     7\n",
      "2    98\n",
      "3    35\n",
      "4    69\n",
      "5    31\n",
      "6    64\n",
      "7    26\n",
      "dtype: int64\n",
      "\n",
      "*************************\n",
      "Letters Series:\n",
      "0    x\n",
      "1    y\n",
      "2    z\n",
      "3    o\n",
      "4    f\n",
      "5    e\n",
      "dtype: object\n",
      "Mixed Series:\n",
      " 0     t\n",
      "1     u\n",
      "2     r\n",
      "3     s\n",
      "4     b\n",
      "5     o\n",
      "6    12\n",
      "7    47\n",
      "8    36\n",
      "9    20\n",
      "dtype: object\n"
     ]
    }
   ],
   "source": [
    "# 1. Introduction to Pandas Series\n",
    "\n",
    "numbers = [24, 7, 98, 35, 69, 31, 64, 26]\n",
    "letters = ['x','y','z','o', 'f', 'e']\n",
    "\n",
    "# Create pandas series\n",
    "pandas_series = pd.Series(numbers)\n",
    "print(\"********* Introduction to Pandas Series *********\\n\")\n",
    "print(f\"Numbers Series:\\n{pandas_series}\\n\")\n",
    "print(\"*\"*25)\n",
    "\n",
    "\n",
    "pandas_series2 = pd.Series(letters)\n",
    "print(f\"Letters Series:\\n{pandas_series2}\")\n",
    "print(\"*\"*25)\n",
    "\n",
    "# create a mixed series\n",
    "mixed_series = pd.Series(['t','u','r','s','b','o', 12, 47, 36, 20])\n",
    "print(f\"Mixed Series:\\n {mixed_series}\")"
   ]
  },
  {
   "cell_type": "code",
   "execution_count": 8,
   "id": "1eb5fea6",
   "metadata": {},
   "outputs": [
    {
     "name": "stdout",
     "output_type": "stream",
     "text": [
      "Scalar Series: \n",
      "0    10\n",
      "1    10\n",
      "2    10\n",
      "3    10\n",
      "4    10\n",
      "5    10\n",
      "dtype: int64\n"
     ]
    }
   ],
   "source": [
    "pandas_scalar = pd.Series(10, [0, 1, 2, 3, 4, 5])\n",
    "print(f\"Scalar Series: \\n{pandas_scalar}\")"
   ]
  },
  {
   "cell_type": "code",
   "execution_count": 11,
   "id": "bc4e0941",
   "metadata": {},
   "outputs": [
    {
     "name": "stdout",
     "output_type": "stream",
     "text": [
      "Family Tree: \n",
      " m    mother\n",
      "f    father\n",
      "c     child\n",
      "dtype: object\n"
     ]
    }
   ],
   "source": [
    "pandas_index = pd.Series(['mother','father',\"child\"], ['m','f','c'])\n",
    "print(\"Family Tree: \\n\", pandas_index)"
   ]
  },
  {
   "cell_type": "code",
   "execution_count": 12,
   "id": "a57259d6",
   "metadata": {},
   "outputs": [
    {
     "name": "stdout",
     "output_type": "stream",
     "text": [
      "Personal Info:\n",
      "name                                                       Emre\n",
      "surname                                                 Üstübeç\n",
      "age                                                          26\n",
      "occupation    Biomedical Engineer / Management Information S...\n",
      "dtype: object\n"
     ]
    }
   ],
   "source": [
    "my_dict = {\n",
    "    'name': \"Emre\",\n",
    "    \"surname\": \"Üstübeç\",\n",
    "    \"age\": 26,\n",
    "    \"occupation\": \"Biomedical Engineer / Management Information System Specialist\"\n",
    "}\n",
    "\n",
    "pandas_dict_series = pd.Series(my_dict)\n",
    "print(f\"Personal Info:\\n{pandas_dict_series}\")"
   ]
  },
  {
   "cell_type": "code",
   "execution_count": 13,
   "id": "d293ddc4",
   "metadata": {},
   "outputs": [
    {
     "name": "stdout",
     "output_type": "stream",
     "text": [
      "Random Series:\n",
      "0     11\n",
      "1     61\n",
      "2     58\n",
      "3     43\n",
      "4     47\n",
      "5     86\n",
      "6     17\n",
      "7      8\n",
      "8     94\n",
      "9      7\n",
      "10    95\n",
      "11    11\n",
      "12     2\n",
      "13    83\n",
      "14    77\n",
      "15     8\n",
      "16    19\n",
      "17    69\n",
      "18    39\n",
      "19    72\n",
      "dtype: int32\n"
     ]
    }
   ],
   "source": [
    "# import numpy\n",
    "import numpy as np\n",
    "\n",
    "random_nums = np.random.randint(0, 100, 20)\n",
    "random_pd_series = pd.Series(random_nums)\n",
    "print(f\"Random Series:\\n{random_pd_series}\")"
   ]
  },
  {
   "cell_type": "code",
   "execution_count": null,
   "id": "a5375a6a",
   "metadata": {},
   "outputs": [
    {
     "name": "stdout",
     "output_type": "stream",
     "text": [
      "First element of random_pd_series: 11\n",
      "\n",
      "Last element of random_pd_series: 72\n",
      "\n",
      "First two elements:\n",
      " 0    11\n",
      "1    61\n",
      "dtype: int32\n",
      "\n",
      "Element with index 7 of random_pd_series: 8\n",
      "\n",
      "Dimension of random_pd_series: 1\n",
      "\n",
      "Data type of random_pd_series: int32\n",
      "\n",
      "Shape of random_pd_series: (20,)\n",
      "\n"
     ]
    }
   ],
   "source": [
    "# Indexing and slicing operations with pandas series\n",
    "first_element = random_pd_series[0]\n",
    "last_element = random_pd_series[random_pd_series.size- 1]\n",
    "first_two_elements = random_pd_series[:2]\n",
    "print(f\"First element of random_pd_series: {first_element}\\n\")\n",
    "print(f\"Last element of random_pd_series: {last_element}\\n\")\n",
    "print(f\"First two elements:\\n {first_two_elements}\\n\")\n",
    "\n",
    "print(f\"Element with index 7 of random_pd_series: {random_pd_series[7]}\\n\") # give the key \n",
    "\n",
    "print(f\"Dimension of random_pd_series: {random_pd_series.ndim}\\n\")\n",
    "print(f\"Data type of random_pd_series: {random_pd_series.dtype}\\n\")\n",
    "print(f\"Shape of random_pd_series: {random_pd_series.shape}\\n\")\n"
   ]
  },
  {
   "cell_type": "code",
   "execution_count": null,
   "id": "76fd84ba",
   "metadata": {},
   "outputs": [
    {
     "name": "stdout",
     "output_type": "stream",
     "text": [
      "--------------- Statistical Information About Series ---------------\n",
      "Sum of random_pd_series: 907\n",
      "\n",
      "Max item of random_pd_series: 95\n",
      "\n",
      "Index of max item in random_pd_series: 10\n",
      "\n",
      "Min item of random_pd_series: 2\n",
      "\n",
      "Index of min item in random_pd_series: 12\n",
      "\n",
      "Mean of random_pd_series: 45.35\n",
      "Median of random_pd_series: 45.0\n",
      "Mod of random_pd_series: 0     8\n",
      "1    11\n",
      "dtype: int32\n"
     ]
    }
   ],
   "source": [
    "# Mathematical Operations\n",
    "sum_of_series = random_pd_series.sum()\n",
    "max_item = random_pd_series.max()\n",
    "index_of_max_item = random_pd_series.argmax()\n",
    "min_item = random_pd_series.min()\n",
    "index_of_min_item = random_pd_series.argmin()\n",
    "mean_of_series = random_pd_series.mean()\n",
    "median_of_series = random_pd_series.median()\n",
    "mod_of_series = random_pd_series.mode()\n",
    "\n",
    "\n",
    "\n",
    "print(\"-\"*15, \"Statistical Information About Series\", \"-\"*15)\n",
    "print(f\"Sum of random_pd_series: {sum_of_series}\\n\")\n",
    "print(f\"Max item of random_pd_series: {max_item}\\n\")\n",
    "print(f\"Index of max item in random_pd_series: {index_of_max_item}\\n\")\n",
    "print(f\"Min item of random_pd_series: {min_item}\\n\")\n",
    "print(f\"Index of min item in random_pd_series: {index_of_min_item}\\n\")\n",
    "print(f\"Mean of random_pd_series: {mean_of_series}\\n\")\n",
    "print(f\"Median of random_pd_series: {median_of_series}\\n\")\n",
    "print(f\"Mod of random_pd_series: {mod_of_series}\\n\")"
   ]
  },
  {
   "cell_type": "code",
   "execution_count": null,
   "id": "31f68963",
   "metadata": {},
   "outputs": [],
   "source": []
  }
 ],
 "metadata": {
  "kernelspec": {
   "display_name": "base",
   "language": "python",
   "name": "python3"
  },
  "language_info": {
   "codemirror_mode": {
    "name": "ipython",
    "version": 3
   },
   "file_extension": ".py",
   "mimetype": "text/x-python",
   "name": "python",
   "nbconvert_exporter": "python",
   "pygments_lexer": "ipython3",
   "version": "3.11.7"
  }
 },
 "nbformat": 4,
 "nbformat_minor": 5
}
