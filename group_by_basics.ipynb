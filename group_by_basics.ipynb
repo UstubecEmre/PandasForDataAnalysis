{
 "cells": [
  {
   "cell_type": "markdown",
   "id": "b8aa57fa",
   "metadata": {},
   "source": [
    "# Group By Examples Using Pandas\n",
    "\n",
    "# 1. What is groupby() in Python?\n",
    "In Python, especially when using the Pandas library, groupby() is a method used to group data based on one or more columns. After grouping, you can apply aggregate functions (like sum(), mean(), count(), etc.) to each group separately.\n",
    "\n",
    "# 2. Why do we use groupby()?\n",
    "We use groupby() to:\n",
    "\n",
    "Summarize data for each group.\n",
    "\n",
    "Analyze patterns across categories (e.g., by year, by type, by gender).\n",
    "\n",
    "Perform aggregate calculations efficiently on subsets of the data."
   ]
  }
 ],
 "metadata": {
  "language_info": {
   "name": "python"
  }
 },
 "nbformat": 4,
 "nbformat_minor": 5
}
