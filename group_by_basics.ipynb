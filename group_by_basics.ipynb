{
 "cells": [
  {
   "cell_type": "markdown",
   "id": "b8aa57fa",
   "metadata": {},
   "source": [
    "# Group By Examples Using Pandas\n",
    "\n",
    "# 1. What is groupby() in Python?\n",
    "In Python, especially when using the Pandas library, groupby() is a method used to group data based on one or more columns. After grouping, you can apply aggregate functions (like sum(), mean(), count(), etc.) to each group separately.\n",
    "\n",
    "# 2. Why do we use groupby()?\n",
    "We use groupby() to:\n",
    "\n",
    "Summarize data for each group.\n",
    "\n",
    "Analyze patterns across categories (e.g., by year, by type, by gender).\n",
    "\n",
    "Perform aggregate calculations efficiently on subsets of the data."
   ]
  },
  {
   "cell_type": "code",
   "execution_count": 1,
   "id": "1d8348d8",
   "metadata": {},
   "outputs": [],
   "source": [
    "# import libraries\n",
    "import pandas as pd\n",
    "import numpy as np"
   ]
  },
  {
   "cell_type": "code",
   "execution_count": 13,
   "id": "64895fbc",
   "metadata": {},
   "outputs": [
    {
     "data": {
      "application/vnd.microsoft.datawrangler.viewer.v0+json": {
       "columns": [
        {
         "name": "index",
         "rawType": "int64",
         "type": "integer"
        },
        {
         "name": "Name",
         "rawType": "object",
         "type": "string"
        },
        {
         "name": "Department",
         "rawType": "object",
         "type": "string"
        },
        {
         "name": "Age",
         "rawType": "int64",
         "type": "integer"
        },
        {
         "name": "District",
         "rawType": "object",
         "type": "string"
        },
        {
         "name": "Salary",
         "rawType": "int64",
         "type": "integer"
        },
        {
         "name": "Experience",
         "rawType": "int64",
         "type": "integer"
        }
       ],
       "ref": "b8376318-70b6-4a74-96f1-ecb437678824",
       "rows": [
        [
         "0",
         "Emre Üstübeç",
         "IT",
         "26",
         "Süleymanpaşa",
         "35000",
         "5"
        ],
        [
         "1",
         "Taci Duran",
         "HR",
         "21",
         "Buca",
         "28000",
         "1"
        ],
        [
         "2",
         "Sedat Keklik",
         "Marketing",
         "47",
         "Foça",
         "44000",
         "25"
        ],
        [
         "3",
         "Canfeza Katır",
         "Sales",
         "64",
         "Fethiye",
         "62000",
         "48"
        ],
        [
         "4",
         "Duran Emmi",
         "HR",
         "34",
         "Tuzla",
         "34000",
         "12"
        ]
       ],
       "shape": {
        "columns": 6,
        "rows": 5
       }
      },
      "text/html": [
       "<div>\n",
       "<style scoped>\n",
       "    .dataframe tbody tr th:only-of-type {\n",
       "        vertical-align: middle;\n",
       "    }\n",
       "\n",
       "    .dataframe tbody tr th {\n",
       "        vertical-align: top;\n",
       "    }\n",
       "\n",
       "    .dataframe thead th {\n",
       "        text-align: right;\n",
       "    }\n",
       "</style>\n",
       "<table border=\"1\" class=\"dataframe\">\n",
       "  <thead>\n",
       "    <tr style=\"text-align: right;\">\n",
       "      <th></th>\n",
       "      <th>Name</th>\n",
       "      <th>Department</th>\n",
       "      <th>Age</th>\n",
       "      <th>District</th>\n",
       "      <th>Salary</th>\n",
       "      <th>Experience</th>\n",
       "    </tr>\n",
       "  </thead>\n",
       "  <tbody>\n",
       "    <tr>\n",
       "      <th>0</th>\n",
       "      <td>Emre Üstübeç</td>\n",
       "      <td>IT</td>\n",
       "      <td>26</td>\n",
       "      <td>Süleymanpaşa</td>\n",
       "      <td>35000</td>\n",
       "      <td>5</td>\n",
       "    </tr>\n",
       "    <tr>\n",
       "      <th>1</th>\n",
       "      <td>Taci Duran</td>\n",
       "      <td>HR</td>\n",
       "      <td>21</td>\n",
       "      <td>Buca</td>\n",
       "      <td>28000</td>\n",
       "      <td>1</td>\n",
       "    </tr>\n",
       "    <tr>\n",
       "      <th>2</th>\n",
       "      <td>Sedat Keklik</td>\n",
       "      <td>Marketing</td>\n",
       "      <td>47</td>\n",
       "      <td>Foça</td>\n",
       "      <td>44000</td>\n",
       "      <td>25</td>\n",
       "    </tr>\n",
       "    <tr>\n",
       "      <th>3</th>\n",
       "      <td>Canfeza Katır</td>\n",
       "      <td>Sales</td>\n",
       "      <td>64</td>\n",
       "      <td>Fethiye</td>\n",
       "      <td>62000</td>\n",
       "      <td>48</td>\n",
       "    </tr>\n",
       "    <tr>\n",
       "      <th>4</th>\n",
       "      <td>Duran Emmi</td>\n",
       "      <td>HR</td>\n",
       "      <td>34</td>\n",
       "      <td>Tuzla</td>\n",
       "      <td>34000</td>\n",
       "      <td>12</td>\n",
       "    </tr>\n",
       "  </tbody>\n",
       "</table>\n",
       "</div>"
      ],
      "text/plain": [
       "            Name Department  Age      District  Salary  Experience\n",
       "0   Emre Üstübeç         IT   26  Süleymanpaşa   35000           5\n",
       "1     Taci Duran         HR   21          Buca   28000           1\n",
       "2   Sedat Keklik  Marketing   47          Foça   44000          25\n",
       "3  Canfeza Katır      Sales   64       Fethiye   62000          48\n",
       "4     Duran Emmi         HR   34         Tuzla   34000          12"
      ]
     },
     "execution_count": 13,
     "metadata": {},
     "output_type": "execute_result"
    }
   ],
   "source": [
    "# create a dataset\n",
    "employee_data = {\n",
    "    \"Name\": [\"Emre Üstübeç\",\"Taci Duran\",\"Sedat Keklik\", \"Canfeza Katır\", \"Duran Emmi\",\"Halide Gülen\",\"Fatma Darılan\", \"Necati Unut\",\"Bahriye Sezer\",\"Recep Üzülmez\"],\n",
    "    \"Department\": [\"IT\",\"HR\",\"Marketing\",\"Sales\", \"HR\",\"Finance\",\"Accounting\",\"Business Development\",\"Project Management\",\"Accounting\"],\n",
    "    \"Age\": [26, 21, 47, 64, 34, 45, 21, 19, 69, 32],\n",
    "    \"District\": [\"Süleymanpaşa\",\"Buca\",\"Foça\",\"Fethiye\",\"Tuzla\",\"Gönen\",\"Kızılay\", \"Süleymanpaşa\",\"Muratpaşa\",\"Gönen\"],\n",
    "    \"Salary\": [35000, 28000, 44000, 62000, 34000, 56000, 26000, 220000 ,90000, 38500 ],\n",
    "    \"Experience\": [5, 1, 25, 48, 12, 20, 2, 0, 49, 14]\n",
    "    \n",
    "}\n",
    "\n",
    "df = pd.DataFrame(employee_data)\n",
    "df.head()"
   ]
  },
  {
   "cell_type": "code",
   "execution_count": 14,
   "id": "9af90eab",
   "metadata": {},
   "outputs": [
    {
     "name": "stdout",
     "output_type": "stream",
     "text": [
      "{'Accounting': [6, 9], 'Business Development': [7], 'Finance': [5], 'HR': [1, 4], 'IT': [0], 'Marketing': [2], 'Project Management': [8], 'Sales': [3]}\n",
      "**************************************************\n",
      "{('Accounting', 'Gönen'): [9], ('Accounting', 'Kızılay'): [6], ('Business Development', 'Süleymanpaşa'): [7], ('Finance', 'Gönen'): [5], ('HR', 'Buca'): [1], ('HR', 'Tuzla'): [4], ('IT', 'Süleymanpaşa'): [0], ('Marketing', 'Foça'): [2], ('Project Management', 'Muratpaşa'): [8], ('Sales', 'Fethiye'): [3]}\n",
      "**************************************************\n"
     ]
    }
   ],
   "source": [
    "# Groupby Examples\n",
    "groupby_example1 = df.groupby(\"Department\").groups\n",
    "print(groupby_example1) \n",
    "print(\"*\"*50)\n",
    "groupby_example2 = df.groupby([\"Department\",\"District\"]).groups\n",
    "print(groupby_example2)\n",
    "print(\"*\"*50)"
   ]
  },
  {
   "cell_type": "code",
   "execution_count": 15,
   "id": "a766c24f",
   "metadata": {},
   "outputs": [
    {
     "name": "stdout",
     "output_type": "stream",
     "text": [
      "Buca \n",
      "          Name Department  Age District  Salary  Experience\n",
      "1  Taci Duran         HR   21     Buca   28000           1\n",
      "Fethiye \n",
      "             Name Department  Age District  Salary  Experience\n",
      "3  Canfeza Katır      Sales   64  Fethiye   62000          48\n",
      "Foça \n",
      "            Name Department  Age District  Salary  Experience\n",
      "2  Sedat Keklik  Marketing   47     Foça   44000          25\n",
      "Gönen \n",
      "             Name  Department  Age District  Salary  Experience\n",
      "5   Halide Gülen     Finance   45    Gönen   56000          20\n",
      "9  Recep Üzülmez  Accounting   32    Gönen   38500          14\n",
      "Kızılay \n",
      "             Name  Department  Age District  Salary  Experience\n",
      "6  Fatma Darılan  Accounting   21  Kızılay   26000           2\n",
      "Muratpaşa \n",
      "             Name          Department  Age   District  Salary  Experience\n",
      "8  Bahriye Sezer  Project Management   69  Muratpaşa   90000          49\n",
      "Süleymanpaşa \n",
      "            Name            Department  Age      District  Salary  Experience\n",
      "0  Emre Üstübeç                    IT   26  Süleymanpaşa   35000           5\n",
      "7   Necati Unut  Business Development   19  Süleymanpaşa  220000           0\n",
      "Tuzla \n",
      "          Name Department  Age District  Salary  Experience\n",
      "4  Duran Emmi         HR   34    Tuzla   34000          12\n",
      "****************************************************************************************************\n",
      "Accounting \n",
      "             Name  Department  Age District  Salary  Experience\n",
      "6  Fatma Darılan  Accounting   21  Kızılay   26000           2\n",
      "9  Recep Üzülmez  Accounting   32    Gönen   38500          14\n",
      "Business Development \n",
      "           Name            Department  Age      District  Salary  Experience\n",
      "7  Necati Unut  Business Development   19  Süleymanpaşa  220000           0\n",
      "Finance \n",
      "            Name Department  Age District  Salary  Experience\n",
      "5  Halide Gülen    Finance   45    Gönen   56000          20\n",
      "HR \n",
      "          Name Department  Age District  Salary  Experience\n",
      "1  Taci Duran         HR   21     Buca   28000           1\n",
      "4  Duran Emmi         HR   34    Tuzla   34000          12\n",
      "IT \n",
      "            Name Department  Age      District  Salary  Experience\n",
      "0  Emre Üstübeç         IT   26  Süleymanpaşa   35000           5\n",
      "Marketing \n",
      "            Name Department  Age District  Salary  Experience\n",
      "2  Sedat Keklik  Marketing   47     Foça   44000          25\n",
      "Project Management \n",
      "             Name          Department  Age   District  Salary  Experience\n",
      "8  Bahriye Sezer  Project Management   69  Muratpaşa   90000          49\n",
      "Sales \n",
      "             Name Department  Age District  Salary  Experience\n",
      "3  Canfeza Katır      Sales   64  Fethiye   62000          48\n"
     ]
    }
   ],
   "source": [
    "# Districts\n",
    "districts = df.groupby(\"District\")\n",
    "for name, group in districts:\n",
    "    print(name, \"\\n\", group)\n",
    "\n",
    "print(\"*\"*100)\n",
    "departments = df.groupby(\"Department\")\n",
    "for name, group in departments:\n",
    "    print(name,\"\\n\", group)\n",
    "    \n"
   ]
  },
  {
   "cell_type": "code",
   "execution_count": 18,
   "id": "7c520030",
   "metadata": {},
   "outputs": [
    {
     "name": "stdout",
     "output_type": "stream",
     "text": [
      "           Name            Department  Age      District  Salary  Experience\n",
      "0  Emre Üstübeç                    IT   26  Süleymanpaşa   35000           5\n",
      "7   Necati Unut  Business Development   19  Süleymanpaşa  220000           0\n"
     ]
    }
   ],
   "source": [
    "# grouping by district\n",
    "suleymanpasa = df.groupby(\"District\").get_group(\"Süleymanpaşa\")\n",
    "print(suleymanpasa)"
   ]
  },
  {
   "cell_type": "code",
   "execution_count": null,
   "id": "cba6a93e",
   "metadata": {},
   "outputs": [
    {
     "name": "stdout",
     "output_type": "stream",
     "text": [
      "            Name  Department  Age District  Salary  Experience\n",
      "6  Fatma Darılan  Accounting   21  Kızılay   26000           2\n",
      "9  Recep Üzülmez  Accounting   32    Gönen   38500          14\n"
     ]
    }
   ],
   "source": [
    "# grouping by department\n",
    "accounting = df.groupby(\"Department\").get_group(\"Accounting\")\n",
    "print(accounting)"
   ]
  },
  {
   "cell_type": "code",
   "execution_count": 26,
   "id": "d51d01aa",
   "metadata": {},
   "outputs": [
    {
     "name": "stdout",
     "output_type": "stream",
     "text": [
      "******************* Employee's Statistical Info *******************\n",
      "General Sum Info: \n",
      "                                             Name  Age      District  Salary  \\\n",
      "Department                                                                    \n",
      "Accounting            Fatma DarılanRecep Üzülmez   53  KızılayGönen   64500   \n",
      "Business Development                 Necati Unut   19  Süleymanpaşa  220000   \n",
      "Finance                             Halide Gülen   45         Gönen   56000   \n",
      "HR                          Taci DuranDuran Emmi   55     BucaTuzla   62000   \n",
      "IT                                  Emre Üstübeç   26  Süleymanpaşa   35000   \n",
      "Marketing                           Sedat Keklik   47          Foça   44000   \n",
      "Project Management                 Bahriye Sezer   69     Muratpaşa   90000   \n",
      "Sales                              Canfeza Katır   64       Fethiye   62000   \n",
      "\n",
      "                      Experience  \n",
      "Department                        \n",
      "Accounting                    16  \n",
      "Business Development           0  \n",
      "Finance                       20  \n",
      "HR                            13  \n",
      "IT                             5  \n",
      "Marketing                     25  \n",
      "Project Management            49  \n",
      "Sales                         48  \n",
      "\n",
      "Mean of Salaries: \n",
      " Department\n",
      "Accounting               32250.0\n",
      "Business Development    220000.0\n",
      "Finance                  56000.0\n",
      "HR                       31000.0\n",
      "IT                       35000.0\n",
      "Marketing                44000.0\n",
      "Project Management       90000.0\n",
      "Sales                    62000.0\n",
      "Name: Salary, dtype: float64\n",
      "\n",
      "Mean of Ages: \n",
      " Department\n",
      "Accounting              26.5\n",
      "Business Development    19.0\n",
      "Finance                 45.0\n",
      "HR                      27.5\n",
      "IT                      26.0\n",
      "Marketing               47.0\n",
      "Project Management      69.0\n",
      "Sales                   64.0\n",
      "Name: Age, dtype: float64\n",
      "\n",
      "Mean of Experiences: \n",
      " Department\n",
      "Accounting               8.0\n",
      "Business Development     0.0\n",
      "Finance                 20.0\n",
      "HR                       6.5\n",
      "IT                       5.0\n",
      "Marketing               25.0\n",
      "Project Management      49.0\n",
      "Sales                   48.0\n",
      "Name: Experience, dtype: float64\n",
      "\n",
      "Average Age in Districts : \n",
      " District\n",
      "Buca            21.0\n",
      "Fethiye         64.0\n",
      "Foça            47.0\n",
      "Gönen           38.5\n",
      "Kızılay         21.0\n",
      "Muratpaşa       69.0\n",
      "Süleymanpaşa    22.5\n",
      "Tuzla           34.0\n",
      "Name: Age, dtype: float64\n",
      "\n",
      "Count of Employee's Districts: \n",
      " District\n",
      "Buca            1\n",
      "Fethiye         1\n",
      "Foça            1\n",
      "Gönen           2\n",
      "Kızılay         1\n",
      "Muratpaşa       1\n",
      "Süleymanpaşa    2\n",
      "Tuzla           1\n",
      "Name: Name, dtype: int64\n",
      "\n",
      "*******************************************************************\n"
     ]
    }
   ],
   "source": [
    "# General groupby examples\n",
    "sum_info = df.groupby(\"Department\").sum()\n",
    "salary_mean_info = df.groupby(\"Department\")[\"Salary\"].mean()\n",
    "age_mean_info = df.groupby(\"Department\")[\"Age\"].mean()\n",
    "experience_mean_info = df.groupby(\"Department\")[\"Experience\"].mean()\n",
    "age_of_districs = df.groupby(\"District\")[\"Age\"].mean()\n",
    "count_of_districts = df.groupby(\"District\")[\"Name\"].count()\n",
    "print(\"******************* Employee's Statistical Info *******************\")\n",
    "print(f\"General Sum Info: \\n {sum_info}\\n\")\n",
    "print(f\"Mean of Salaries: \\n {salary_mean_info}\\n\")\n",
    "print(f\"Mean of Ages: \\n {age_mean_info}\\n\")\n",
    "print(f\"Mean of Experiences: \\n {experience_mean_info}\\n\")\n",
    "print(f\"Average Age in Districts : \\n {age_of_districs}\\n\")\n",
    "print(f\"Count of Employee's Districts: \\n {count_of_districts}\\n\")\n",
    "\n",
    "print(\"*\"*len(\"******************* Employee's Statistical Info *******************\"))\n",
    "\n"
   ]
  },
  {
   "cell_type": "code",
   "execution_count": 31,
   "id": "14542951",
   "metadata": {},
   "outputs": [
    {
     "name": "stdout",
     "output_type": "stream",
     "text": [
      "Max Age\n",
      "**************************************************\n",
      "Max Age: 69\n",
      "\n",
      "Max Age of Department:\n",
      " Department\n",
      "Accounting              32\n",
      "Business Development    19\n",
      "Finance                 45\n",
      "HR                      34\n",
      "IT                      26\n",
      "Marketing               47\n",
      "Project Management      69\n",
      "Sales                   64\n",
      "Name: Age, dtype: int64\n",
      "\n",
      "Min Age of Department:\n",
      " Department\n",
      "Accounting              21\n",
      "Business Development    19\n",
      "Finance                 45\n",
      "HR                      21\n",
      "IT                      26\n",
      "Marketing               47\n",
      "Project Management      69\n",
      "Sales                   64\n",
      "Name: Age, dtype: int64\n",
      "\n",
      "Max Salary of Department:\n",
      " Department\n",
      "Accounting               38500\n",
      "Business Development    220000\n",
      "Finance                  56000\n",
      "HR                       34000\n",
      "IT                       35000\n",
      "Marketing                44000\n",
      "Project Management       90000\n",
      "Sales                    62000\n",
      "Name: Salary, dtype: int64\n",
      "\n",
      "Min Salary of Department:\n",
      " Department\n",
      "Accounting               26000\n",
      "Business Development    220000\n",
      "Finance                  56000\n",
      "HR                       28000\n",
      "IT                       35000\n",
      "Marketing                44000\n",
      "Project Management       90000\n",
      "Sales                    62000\n",
      "Name: Salary, dtype: int64\n",
      "\n",
      "Min Salary of Accounting: \n",
      " 26000\n",
      "\n",
      "Min Experience in Human Resources: \n",
      " 1 year\n",
      "\n"
     ]
    }
   ],
   "source": [
    "max_age = df[\"Age\"].max()\n",
    "print(\"Max Age\")\n",
    "print(\"*\"*50)\n",
    "\n",
    "max_age_of_department = df.groupby(\"Department\")[\"Age\"].max()\n",
    "min_age_of_department = df.groupby(\"Department\")[\"Age\"].min()\n",
    "max_salary_of_department = df.groupby(\"Department\")[\"Salary\"].max()\n",
    "min_salary_of_department = df.groupby(\"Department\")[\"Salary\"].min()\n",
    "min_salary_of_department = df.groupby(\"Department\")[\"Salary\"].min()\n",
    "min_salary_in_accounting = df.groupby(\"Department\")[\"Salary\"].min()[\"Accounting\"]\n",
    "min_experience_in_hr = df.groupby(\"Department\")[\"Experience\"].min()[\"HR\"]\n",
    "\n",
    "print(f\"Max Age: {max_age}\\n\")\n",
    "print(f\"Max Age of Department:\\n {max_age_of_department}\\n\")\n",
    "print(f\"Min Age of Department:\\n {min_age_of_department}\\n\")\n",
    "print(f\"Max Salary of Department:\\n {max_salary_of_department}\\n\")\n",
    "print(f\"Min Salary of Department:\\n {min_salary_of_department}\\n\")\n",
    "print(f\"Min Salary of Accounting: \\n {min_salary_in_accounting}\\n\")\n",
    "print(f\"Min Experience in Human Resources: \\n {min_experience_in_hr} year\\n\")\n"
   ]
  },
  {
   "cell_type": "code",
   "execution_count": 40,
   "id": "412fa823",
   "metadata": {},
   "outputs": [
    {
     "name": "stdout",
     "output_type": "stream",
     "text": [
      "                         sum      mean     max     min          std\n",
      "Department                                                         \n",
      "Accounting             64500   32250.0   38500   26000  8838.834765\n",
      "Business Development  220000  220000.0  220000  220000          NaN\n",
      "Finance                56000   56000.0   56000   56000          NaN\n",
      "HR                     62000   31000.0   34000   28000  4242.640687\n",
      "IT                     35000   35000.0   35000   35000          NaN\n",
      "Marketing              44000   44000.0   44000   44000          NaN\n",
      "Project Management     90000   90000.0   90000   90000          NaN\n",
      "Sales                  62000   62000.0   62000   62000          NaN\n"
     ]
    },
    {
     "name": "stderr",
     "output_type": "stream",
     "text": [
      "C:\\Users\\Asus\\AppData\\Local\\Temp\\ipykernel_7592\\3947058222.py:2: FutureWarning: The provided callable <function sum at 0x00000051019AF920> is currently using SeriesGroupBy.sum. In a future version of pandas, the provided callable will be used directly. To keep current behavior pass the string \"sum\" instead.\n",
      "  agg_example = df.groupby(\"Department\")[\"Salary\"].agg([np.sum, np.mean, np.max, np.min, np.std])#.loc[\"Accounting\"]\n",
      "C:\\Users\\Asus\\AppData\\Local\\Temp\\ipykernel_7592\\3947058222.py:2: FutureWarning: The provided callable <function mean at 0x00000051019D0A40> is currently using SeriesGroupBy.mean. In a future version of pandas, the provided callable will be used directly. To keep current behavior pass the string \"mean\" instead.\n",
      "  agg_example = df.groupby(\"Department\")[\"Salary\"].agg([np.sum, np.mean, np.max, np.min, np.std])#.loc[\"Accounting\"]\n",
      "C:\\Users\\Asus\\AppData\\Local\\Temp\\ipykernel_7592\\3947058222.py:2: FutureWarning: The provided callable <function max at 0x00000051019D0040> is currently using SeriesGroupBy.max. In a future version of pandas, the provided callable will be used directly. To keep current behavior pass the string \"max\" instead.\n",
      "  agg_example = df.groupby(\"Department\")[\"Salary\"].agg([np.sum, np.mean, np.max, np.min, np.std])#.loc[\"Accounting\"]\n",
      "C:\\Users\\Asus\\AppData\\Local\\Temp\\ipykernel_7592\\3947058222.py:2: FutureWarning: The provided callable <function min at 0x00000051019D0180> is currently using SeriesGroupBy.min. In a future version of pandas, the provided callable will be used directly. To keep current behavior pass the string \"min\" instead.\n",
      "  agg_example = df.groupby(\"Department\")[\"Salary\"].agg([np.sum, np.mean, np.max, np.min, np.std])#.loc[\"Accounting\"]\n",
      "C:\\Users\\Asus\\AppData\\Local\\Temp\\ipykernel_7592\\3947058222.py:2: FutureWarning: The provided callable <function std at 0x00000051019D0B80> is currently using SeriesGroupBy.std. In a future version of pandas, the provided callable will be used directly. To keep current behavior pass the string \"std\" instead.\n",
      "  agg_example = df.groupby(\"Department\")[\"Salary\"].agg([np.sum, np.mean, np.max, np.min, np.std])#.loc[\"Accounting\"]\n"
     ]
    }
   ],
   "source": [
    "# agg method\n",
    "agg_example = df.groupby(\"Department\")[\"Salary\"].agg([np.sum, np.mean, np.max, np.min, np.std])#.loc[\"Accounting\"]\n",
    "print(agg_example)"
   ]
  },
  {
   "cell_type": "code",
   "execution_count": null,
   "id": "e39f07c6",
   "metadata": {},
   "outputs": [],
   "source": []
  }
 ],
 "metadata": {
  "kernelspec": {
   "display_name": "base",
   "language": "python",
   "name": "python3"
  },
  "language_info": {
   "codemirror_mode": {
    "name": "ipython",
    "version": 3
   },
   "file_extension": ".py",
   "mimetype": "text/x-python",
   "name": "python",
   "nbconvert_exporter": "python",
   "pygments_lexer": "ipython3",
   "version": "3.11.7"
  }
 },
 "nbformat": 4,
 "nbformat_minor": 5
}
