{
 "cells": [
  {
   "cell_type": "markdown",
   "id": "1eba0e83",
   "metadata": {},
   "source": [
    "# Pandas DataFrame Methods\n"
   ]
  },
  {
   "cell_type": "code",
   "execution_count": 21,
   "id": "601067de",
   "metadata": {},
   "outputs": [],
   "source": [
    "# import libraries\n",
    "import numpy as np\n",
    "import pandas as pd\n"
   ]
  },
  {
   "cell_type": "code",
   "execution_count": 22,
   "id": "afc47767",
   "metadata": {},
   "outputs": [
    {
     "data": {
      "application/vnd.microsoft.datawrangler.viewer.v0+json": {
       "columns": [
        {
         "name": "index",
         "rawType": "int64",
         "type": "integer"
        },
        {
         "name": "Car_Brand",
         "rawType": "object",
         "type": "string"
        },
        {
         "name": "Car_Model",
         "rawType": "object",
         "type": "string"
        },
        {
         "name": "Stock_Quantity",
         "rawType": "int64",
         "type": "integer"
        },
        {
         "name": "Model_Year",
         "rawType": "object",
         "type": "string"
        }
       ],
       "ref": "81a0a700-ef95-4124-aaef-415a54e547b9",
       "rows": [
        [
         "0",
         "BMW",
         "X7",
         "1200",
         "2023"
        ],
        [
         "1",
         "Mercedes",
         "C180",
         "1800",
         "2016"
        ],
        [
         "2",
         "Fiat",
         "Punto",
         "5000",
         "2012"
        ],
        [
         "3",
         "Nissan",
         "Qashqai",
         "4200",
         "2015"
        ],
        [
         "4",
         "Audi",
         "A3",
         "2800",
         "2018"
        ],
        [
         "5",
         "Suzuki",
         "Swift",
         "20",
         "2019"
        ],
        [
         "6",
         "BYD",
         "Dolphin",
         "150",
         "2024"
        ],
        [
         "7",
         "TESLA",
         "S",
         "10",
         "2022"
        ],
        [
         "8",
         "Porsche",
         "Cayman",
         "3",
         "2008"
        ],
        [
         "9",
         "Mercedes",
         "A180",
         "6500",
         "2014"
        ]
       ],
       "shape": {
        "columns": 4,
        "rows": 10
       }
      },
      "text/html": [
       "<div>\n",
       "<style scoped>\n",
       "    .dataframe tbody tr th:only-of-type {\n",
       "        vertical-align: middle;\n",
       "    }\n",
       "\n",
       "    .dataframe tbody tr th {\n",
       "        vertical-align: top;\n",
       "    }\n",
       "\n",
       "    .dataframe thead th {\n",
       "        text-align: right;\n",
       "    }\n",
       "</style>\n",
       "<table border=\"1\" class=\"dataframe\">\n",
       "  <thead>\n",
       "    <tr style=\"text-align: right;\">\n",
       "      <th></th>\n",
       "      <th>Car_Brand</th>\n",
       "      <th>Car_Model</th>\n",
       "      <th>Stock_Quantity</th>\n",
       "      <th>Model_Year</th>\n",
       "    </tr>\n",
       "  </thead>\n",
       "  <tbody>\n",
       "    <tr>\n",
       "      <th>0</th>\n",
       "      <td>BMW</td>\n",
       "      <td>X7</td>\n",
       "      <td>1200</td>\n",
       "      <td>2023</td>\n",
       "    </tr>\n",
       "    <tr>\n",
       "      <th>1</th>\n",
       "      <td>Mercedes</td>\n",
       "      <td>C180</td>\n",
       "      <td>1800</td>\n",
       "      <td>2016</td>\n",
       "    </tr>\n",
       "    <tr>\n",
       "      <th>2</th>\n",
       "      <td>Fiat</td>\n",
       "      <td>Punto</td>\n",
       "      <td>5000</td>\n",
       "      <td>2012</td>\n",
       "    </tr>\n",
       "    <tr>\n",
       "      <th>3</th>\n",
       "      <td>Nissan</td>\n",
       "      <td>Qashqai</td>\n",
       "      <td>4200</td>\n",
       "      <td>2015</td>\n",
       "    </tr>\n",
       "    <tr>\n",
       "      <th>4</th>\n",
       "      <td>Audi</td>\n",
       "      <td>A3</td>\n",
       "      <td>2800</td>\n",
       "      <td>2018</td>\n",
       "    </tr>\n",
       "    <tr>\n",
       "      <th>5</th>\n",
       "      <td>Suzuki</td>\n",
       "      <td>Swift</td>\n",
       "      <td>20</td>\n",
       "      <td>2019</td>\n",
       "    </tr>\n",
       "    <tr>\n",
       "      <th>6</th>\n",
       "      <td>BYD</td>\n",
       "      <td>Dolphin</td>\n",
       "      <td>150</td>\n",
       "      <td>2024</td>\n",
       "    </tr>\n",
       "    <tr>\n",
       "      <th>7</th>\n",
       "      <td>TESLA</td>\n",
       "      <td>S</td>\n",
       "      <td>10</td>\n",
       "      <td>2022</td>\n",
       "    </tr>\n",
       "    <tr>\n",
       "      <th>8</th>\n",
       "      <td>Porsche</td>\n",
       "      <td>Cayman</td>\n",
       "      <td>3</td>\n",
       "      <td>2008</td>\n",
       "    </tr>\n",
       "    <tr>\n",
       "      <th>9</th>\n",
       "      <td>Mercedes</td>\n",
       "      <td>A180</td>\n",
       "      <td>6500</td>\n",
       "      <td>2014</td>\n",
       "    </tr>\n",
       "  </tbody>\n",
       "</table>\n",
       "</div>"
      ],
      "text/plain": [
       "  Car_Brand Car_Model  Stock_Quantity Model_Year\n",
       "0       BMW        X7            1200       2023\n",
       "1  Mercedes      C180            1800       2016\n",
       "2      Fiat     Punto            5000       2012\n",
       "3    Nissan   Qashqai            4200       2015\n",
       "4      Audi        A3            2800       2018\n",
       "5    Suzuki     Swift              20       2019\n",
       "6       BYD   Dolphin             150       2024\n",
       "7     TESLA         S              10       2022\n",
       "8   Porsche    Cayman               3       2008\n",
       "9  Mercedes      A180            6500       2014"
      ]
     },
     "execution_count": 22,
     "metadata": {},
     "output_type": "execute_result"
    }
   ],
   "source": [
    "data = {\n",
    "    \"Car_Brand\": [\"BMW\",\"Mercedes\",\"Fiat\",\"Nissan\",\"Audi\",\"Suzuki\",\"BYD\",\"TESLA\",\"Porsche\",\"Mercedes\",\"Ford\",\"BYD\",\"TESLA\",\"BMW\",\"Suzuki\",\"BMW\"],\n",
    "    \"Car_Model\": [\"X7\",\"C180\",\"Punto\",\"Qashqai\",\"A3\",\"Swift\",\"Dolphin\",\"S\",\"Cayman\",\"A180\",\"Mustang\",\"Atto3\",\"Y\",\"i5\",\"Swift\",\"i4\"], \n",
    "    \"Stock_Quantity\":[1200, 1800, 5000, 4200, 2800, 20, 150, 10, 3, 6500, 2, 50, 15, 3150, 480, 3800],\n",
    "    \"Model_Year\": [\"2023\",\"2016\",\"2012\",\"2015\",\"2018\",\"2019\",\"2024\",\"2022\",\"2008\",\"2014\",\"2008\",\"2016\",\"2023\",\"2025\",\"2019\",\"2022\"]\n",
    "}\n",
    "\n",
    "df_cars = pd.DataFrame(data = data)\n",
    "df_cars.head(10)"
   ]
  },
  {
   "cell_type": "code",
   "execution_count": 23,
   "id": "c570a546",
   "metadata": {},
   "outputs": [
    {
     "name": "stdout",
     "output_type": "stream",
     "text": [
      "***************************** Unique Car Brands *****************************\n",
      "\n",
      "['BMW' 'Mercedes' 'Fiat' 'Nissan' 'Audi' 'Suzuki' 'BYD' 'TESLA' 'Porsche'\n",
      " 'Ford'] \n",
      "\n",
      "*****************************************************************************\n",
      "Number of Unique Values in Car_Brand Column: 10\n",
      "\n"
     ]
    }
   ],
   "source": [
    "df_unique = df_cars[\"Car_Brand\"].unique()\n",
    "print(\"***************************** Unique Car Brands *****************************\\n\")\n",
    "print(df_unique,\"\\n\")\n",
    "print(\"*\"*77)\n",
    "\n",
    "df_number_of_unique = df_cars[\"Car_Brand\"].nunique()\n",
    "print(f\"Number of Unique Values in Car_Brand Column: {df_number_of_unique}\\n\")\n",
    "#print(\"*\"*len(\"***************************** Unique Car Brands *****************************\")) => 77\n"
   ]
  },
  {
   "cell_type": "code",
   "execution_count": 24,
   "id": "e27a92c7",
   "metadata": {},
   "outputs": [
    {
     "name": "stdout",
     "output_type": "stream",
     "text": [
      "****************************** Examples of Value Count() ******************************\n",
      "Car_Brand\n",
      "BMW         3\n",
      "Mercedes    2\n",
      "Suzuki      2\n",
      "BYD         2\n",
      "TESLA       2\n",
      "Fiat        1\n",
      "Nissan      1\n",
      "Audi        1\n",
      "Porsche     1\n",
      "Ford        1\n",
      "Name: count, dtype: int64 \n",
      "\n",
      "***************************************************************************************\n",
      "Model_Year\n",
      "2023    2\n",
      "2016    2\n",
      "2019    2\n",
      "2022    2\n",
      "2008    2\n",
      "2012    1\n",
      "2015    1\n",
      "2018    1\n",
      "2024    1\n",
      "2014    1\n",
      "2025    1\n",
      "Name: count, dtype: int64 \n",
      "\n",
      "***************************************************************************************\n"
     ]
    }
   ],
   "source": [
    "df_cars_value_counts = df_cars[\"Car_Brand\"].value_counts()\n",
    "df_years_value_counts = df_cars[\"Model_Year\"].value_counts()\n",
    "print(\"****************************** Examples of Value Count() ******************************\")\n",
    "print(df_cars_value_counts,\"\\n\")\n",
    "# print(len(\"****************************** Examples of Value Count() ******************************\"))87\n",
    "print(\"*\"*87)\n",
    "print(df_years_value_counts,\"\\n\")\n",
    "print(\"*\"*87)\n"
   ]
  },
  {
   "cell_type": "code",
   "execution_count": 29,
   "id": "95593509",
   "metadata": {},
   "outputs": [
    {
     "data": {
      "application/vnd.microsoft.datawrangler.viewer.v0+json": {
       "columns": [
        {
         "name": "index",
         "rawType": "int64",
         "type": "integer"
        },
        {
         "name": "Car_Brand",
         "rawType": "object",
         "type": "string"
        },
        {
         "name": "Car_Model",
         "rawType": "object",
         "type": "string"
        },
        {
         "name": "Stock_Quantity",
         "rawType": "int64",
         "type": "integer"
        },
        {
         "name": "Model_Year",
         "rawType": "object",
         "type": "string"
        }
       ],
       "ref": "4560a44a-8462-4e56-b5f5-2ee1867d5e1c",
       "rows": [
        [
         "0",
         "BMW",
         "X7",
         "1210",
         "2023"
        ],
        [
         "1",
         "Mercedes",
         "C180",
         "1810",
         "2016"
        ],
        [
         "2",
         "Fiat",
         "Punto",
         "5010",
         "2012"
        ],
        [
         "3",
         "Nissan",
         "Qashqai",
         "4210",
         "2015"
        ],
        [
         "4",
         "Audi",
         "A3",
         "2810",
         "2018"
        ]
       ],
       "shape": {
        "columns": 4,
        "rows": 5
       }
      },
      "text/html": [
       "<div>\n",
       "<style scoped>\n",
       "    .dataframe tbody tr th:only-of-type {\n",
       "        vertical-align: middle;\n",
       "    }\n",
       "\n",
       "    .dataframe tbody tr th {\n",
       "        vertical-align: top;\n",
       "    }\n",
       "\n",
       "    .dataframe thead th {\n",
       "        text-align: right;\n",
       "    }\n",
       "</style>\n",
       "<table border=\"1\" class=\"dataframe\">\n",
       "  <thead>\n",
       "    <tr style=\"text-align: right;\">\n",
       "      <th></th>\n",
       "      <th>Car_Brand</th>\n",
       "      <th>Car_Model</th>\n",
       "      <th>Stock_Quantity</th>\n",
       "      <th>Model_Year</th>\n",
       "    </tr>\n",
       "  </thead>\n",
       "  <tbody>\n",
       "    <tr>\n",
       "      <th>0</th>\n",
       "      <td>BMW</td>\n",
       "      <td>X7</td>\n",
       "      <td>1210</td>\n",
       "      <td>2023</td>\n",
       "    </tr>\n",
       "    <tr>\n",
       "      <th>1</th>\n",
       "      <td>Mercedes</td>\n",
       "      <td>C180</td>\n",
       "      <td>1810</td>\n",
       "      <td>2016</td>\n",
       "    </tr>\n",
       "    <tr>\n",
       "      <th>2</th>\n",
       "      <td>Fiat</td>\n",
       "      <td>Punto</td>\n",
       "      <td>5010</td>\n",
       "      <td>2012</td>\n",
       "    </tr>\n",
       "    <tr>\n",
       "      <th>3</th>\n",
       "      <td>Nissan</td>\n",
       "      <td>Qashqai</td>\n",
       "      <td>4210</td>\n",
       "      <td>2015</td>\n",
       "    </tr>\n",
       "    <tr>\n",
       "      <th>4</th>\n",
       "      <td>Audi</td>\n",
       "      <td>A3</td>\n",
       "      <td>2810</td>\n",
       "      <td>2018</td>\n",
       "    </tr>\n",
       "  </tbody>\n",
       "</table>\n",
       "</div>"
      ],
      "text/plain": [
       "  Car_Brand Car_Model  Stock_Quantity Model_Year\n",
       "0       BMW        X7            1210       2023\n",
       "1  Mercedes      C180            1810       2016\n",
       "2      Fiat     Punto            5010       2012\n",
       "3    Nissan   Qashqai            4210       2015\n",
       "4      Audi        A3            2810       2018"
      ]
     },
     "execution_count": 29,
     "metadata": {},
     "output_type": "execute_result"
    }
   ],
   "source": [
    "# apply method\n",
    "def increase_stock(stock_count):\n",
    "    stock_count += 10\n",
    "    return stock_count \n",
    "\n",
    "df_cars_copy = df_cars.copy()\n",
    "df_cars_copy[\"Stock_Quantity\"] = df_cars_copy[\"Stock_Quantity\"].apply(increase_stock)\n",
    "df_cars_copy.head()"
   ]
  },
  {
   "cell_type": "code",
   "execution_count": 32,
   "id": "5e298b4e",
   "metadata": {},
   "outputs": [
    {
     "data": {
      "application/vnd.microsoft.datawrangler.viewer.v0+json": {
       "columns": [
        {
         "name": "index",
         "rawType": "int64",
         "type": "integer"
        },
        {
         "name": "Car_Brand",
         "rawType": "object",
         "type": "string"
        },
        {
         "name": "Car_Model",
         "rawType": "object",
         "type": "string"
        },
        {
         "name": "Stock_Quantity",
         "rawType": "int64",
         "type": "integer"
        },
        {
         "name": "Model_Year",
         "rawType": "object",
         "type": "string"
        }
       ],
       "ref": "8d906c10-32ef-4e35-82da-cc9022eecb64",
       "rows": [
        [
         "0",
         "BMW",
         "X7",
         "1200",
         "2023"
        ],
        [
         "1",
         "Mercedes",
         "C180",
         "1800",
         "2016"
        ],
        [
         "2",
         "Fiat",
         "Punto",
         "5000",
         "2012"
        ],
        [
         "3",
         "Nissan",
         "Qashqai",
         "4200",
         "2015"
        ],
        [
         "4",
         "Audi",
         "A3",
         "2800",
         "2018"
        ]
       ],
       "shape": {
        "columns": 4,
        "rows": 5
       }
      },
      "text/html": [
       "<div>\n",
       "<style scoped>\n",
       "    .dataframe tbody tr th:only-of-type {\n",
       "        vertical-align: middle;\n",
       "    }\n",
       "\n",
       "    .dataframe tbody tr th {\n",
       "        vertical-align: top;\n",
       "    }\n",
       "\n",
       "    .dataframe thead th {\n",
       "        text-align: right;\n",
       "    }\n",
       "</style>\n",
       "<table border=\"1\" class=\"dataframe\">\n",
       "  <thead>\n",
       "    <tr style=\"text-align: right;\">\n",
       "      <th></th>\n",
       "      <th>Car_Brand</th>\n",
       "      <th>Car_Model</th>\n",
       "      <th>Stock_Quantity</th>\n",
       "      <th>Model_Year</th>\n",
       "    </tr>\n",
       "  </thead>\n",
       "  <tbody>\n",
       "    <tr>\n",
       "      <th>0</th>\n",
       "      <td>BMW</td>\n",
       "      <td>X7</td>\n",
       "      <td>1200</td>\n",
       "      <td>2023</td>\n",
       "    </tr>\n",
       "    <tr>\n",
       "      <th>1</th>\n",
       "      <td>Mercedes</td>\n",
       "      <td>C180</td>\n",
       "      <td>1800</td>\n",
       "      <td>2016</td>\n",
       "    </tr>\n",
       "    <tr>\n",
       "      <th>2</th>\n",
       "      <td>Fiat</td>\n",
       "      <td>Punto</td>\n",
       "      <td>5000</td>\n",
       "      <td>2012</td>\n",
       "    </tr>\n",
       "    <tr>\n",
       "      <th>3</th>\n",
       "      <td>Nissan</td>\n",
       "      <td>Qashqai</td>\n",
       "      <td>4200</td>\n",
       "      <td>2015</td>\n",
       "    </tr>\n",
       "    <tr>\n",
       "      <th>4</th>\n",
       "      <td>Audi</td>\n",
       "      <td>A3</td>\n",
       "      <td>2800</td>\n",
       "      <td>2018</td>\n",
       "    </tr>\n",
       "  </tbody>\n",
       "</table>\n",
       "</div>"
      ],
      "text/plain": [
       "  Car_Brand Car_Model  Stock_Quantity Model_Year\n",
       "0       BMW        X7            1200       2023\n",
       "1  Mercedes      C180            1800       2016\n",
       "2      Fiat     Punto            5000       2012\n",
       "3    Nissan   Qashqai            4200       2015\n",
       "4      Audi        A3            2800       2018"
      ]
     },
     "execution_count": 32,
     "metadata": {},
     "output_type": "execute_result"
    }
   ],
   "source": [
    "decrease_stock = lambda stock: stock - 10\n",
    "df_cars_copy[\"Stock_Quantity\"] = df_cars_copy[\"Stock_Quantity\"].apply(decrease_stock)\n",
    "df_cars_copy.head()"
   ]
  },
  {
   "cell_type": "code",
   "execution_count": 34,
   "id": "8d717d61",
   "metadata": {},
   "outputs": [
    {
     "name": "stdout",
     "output_type": "stream",
     "text": [
      "Number of Columns: 4\n",
      "\n",
      "Index of df_cars: RangeIndex(start=0, stop=16, step=1)\n",
      "\n",
      "Length of df_cars: 16\n"
     ]
    }
   ],
   "source": [
    "# columns and incex attribute in Pandas\n",
    "num_of_columns = len(df_cars.columns)\n",
    "print(f\"Number of Columns: {num_of_columns}\\n\")\n",
    "\n",
    "df_cars_index = df_cars.index\n",
    "print(f\"Index of df_cars: {df_cars_index}\\n\")\n",
    "\n",
    "len_index = len(df_cars.index)\n",
    "print(f\"Length of df_cars: {len_index}\")"
   ]
  },
  {
   "cell_type": "code",
   "execution_count": 42,
   "id": "6e77ea04",
   "metadata": {},
   "outputs": [
    {
     "name": "stdout",
     "output_type": "stream",
     "text": [
      "************************************** Info **************************************\n",
      "<bound method DataFrame.info of    Car_Brand Car_Model  Stock_Quantity Model_Year\n",
      "0        BMW        X7            1200       2023\n",
      "1   Mercedes      C180            1800       2016\n",
      "2       Fiat     Punto            5000       2012\n",
      "3     Nissan   Qashqai            4200       2015\n",
      "4       Audi        A3            2800       2018\n",
      "5     Suzuki     Swift              20       2019\n",
      "6        BYD   Dolphin             150       2024\n",
      "7      TESLA         S              10       2022\n",
      "8    Porsche    Cayman               3       2008\n",
      "9   Mercedes      A180            6500       2014\n",
      "10      Ford   Mustang               2       2008\n",
      "11       BYD     Atto3              50       2016\n",
      "12     TESLA         Y              15       2023\n",
      "13       BMW        i5            3150       2025\n",
      "14    Suzuki     Swift             480       2019\n",
      "15       BMW        i4            3800       2022>\n",
      "**********************************************************************************\n"
     ]
    }
   ],
   "source": [
    "# info attribute\n",
    "df_cars_info = df_cars.info\n",
    "print(\"************************************** Info **************************************\")\n",
    "print(df_cars_info)\n",
    "print(\"*\"*82)"
   ]
  },
  {
   "cell_type": "code",
   "execution_count": null,
   "id": "26c95d4f",
   "metadata": {},
   "outputs": [
    {
     "name": "stdout",
     "output_type": "stream",
     "text": [
      "   Car_Brand Car_Model  Stock_Quantity Model_Year\n",
      "8    Porsche    Cayman               3       2008\n",
      "10      Ford   Mustang               2       2008\n",
      "2       Fiat     Punto            5000       2012\n",
      "9   Mercedes      A180            6500       2014\n",
      "3     Nissan   Qashqai            4200       2015\n",
      "1   Mercedes      C180            1800       2016\n",
      "11       BYD     Atto3              50       2016\n",
      "4       Audi        A3            2800       2018\n",
      "5     Suzuki     Swift              20       2019\n",
      "14    Suzuki     Swift             480       2019\n",
      "7      TESLA         S              10       2022\n",
      "15       BMW        i4            3800       2022\n",
      "0        BMW        X7            1200       2023\n",
      "12     TESLA         Y              15       2023\n",
      "6        BYD   Dolphin             150       2024\n",
      "13       BMW        i5            3150       2025\n"
     ]
    }
   ],
   "source": [
    "# sort values\n",
    "df_cars_sorted = df_cars.sort_values(\"Model_Year\") # default value => ascending = True\n",
    "print(df_cars_sorted)"
   ]
  },
  {
   "cell_type": "code",
   "execution_count": 46,
   "id": "51efc02b",
   "metadata": {},
   "outputs": [
    {
     "name": "stdout",
     "output_type": "stream",
     "text": [
      "   Car_Brand Car_Model  Stock_Quantity Model_Year\n",
      "9   Mercedes      A180            6500       2014\n",
      "2       Fiat     Punto            5000       2012\n",
      "3     Nissan   Qashqai            4200       2015\n",
      "15       BMW        i4            3800       2022\n",
      "13       BMW        i5            3150       2025\n",
      "4       Audi        A3            2800       2018\n",
      "1   Mercedes      C180            1800       2016\n",
      "0        BMW        X7            1200       2023\n",
      "14    Suzuki     Swift             480       2019\n",
      "6        BYD   Dolphin             150       2024\n",
      "11       BYD     Atto3              50       2016\n",
      "5     Suzuki     Swift              20       2019\n",
      "12     TESLA         Y              15       2023\n",
      "7      TESLA         S              10       2022\n",
      "8    Porsche    Cayman               3       2008\n",
      "10      Ford   Mustang               2       2008\n"
     ]
    }
   ],
   "source": [
    "df_cars_stock_sorted = df_cars.sort_values(\"Stock_Quantity\",ascending = False)\n",
    "print(df_cars_stock_sorted)"
   ]
  },
  {
   "cell_type": "code",
   "execution_count": null,
   "id": "64a984f8",
   "metadata": {},
   "outputs": [],
   "source": [
    "# pivot table\n",
    "book_data = {\n",
    "    #\"Author\": [\"J. K. Rowling\",\"J.K.Rowling\",\"George R. R. Martin\",\"George R. R. Martin\",]\n",
    "    \"Book_Name\": [\"Bag of Bones\",\"I Know This Much Is True\",\"Harry Potter and the Chamber of Secrets\", \"The Poisonwood Bible\",\"A Clash of Kings\",\"Holes\",\"Harry Potter and the Prisoner of Azkaban\",\"Hannibal\",\"Tis: A Memoir\", \"The Testament\",\"Harry Potter and the Goblet of Fire\",\" Angels & Demons\",\"The Tipping Point: How Little Things Can Make a Big Difference\",\"Me Talk Pretty One Day\"],\n",
    "    \"Release_Date\": [\"1998\",\"1998\",\"1998\",\"1998\",\"1998\",\"1998\",\"1999\",\"1999\",\"1999\",\"1999\",\"2000\",\"2000\",\"2000\",\"2000\"],\n",
    "    \"Number_of_Sales\": [1500000, 800000, 8000000, 450000, 1500000, 240000, 6500000, 580000, 120000, 80000, 5600000, 2500000, 600000, 140000]\n",
    "}\n",
    "df = pd.DataFrame(book_data)\n",
    "\n",
    "# set options\n",
    "pd.set_option(\"display.width\",1000)\n",
    "\n",
    "df_pivot_table = df.pivot_table(values = \"Number_of_Sales\", index = \"Release_Date\", columns = \"Book_Name\")\n",
    "print(df_pivot_table)"
   ]
  },
  {
   "cell_type": "code",
   "execution_count": 50,
   "id": "f099b159",
   "metadata": {},
   "outputs": [
    {
     "name": "stdout",
     "output_type": "stream",
     "text": [
      "Category_Name  Food and Beverage  Pharmaceuticals  Telecommunications and Computing\n",
      "Month                                                                              \n",
      "February                  256000            42000                           1650000\n",
      "January                   680000            54000                           1500000\n",
      "March                     540000            68000                           1450000\n"
     ]
    }
   ],
   "source": [
    "sales_data = {\n",
    "    \"Category_Name\": [\"Telecommunications and Computing\",\"Telecommunications and Computing\",\"Telecommunications and Computing\",\"Food and Beverage\",\"Food and Beverage\",\"Food and Beverage\",\"Pharmaceuticals\",\"Pharmaceuticals\",\"Pharmaceuticals\"],\n",
    "    \"Month\":[\"January\",\"February\",\"March\",\"March\",\"January\",\"February\",\"February\",\"March\",\"January\"],\n",
    "    \"Total_Sales\": [1500000, 1650000, 1450000, 540000, 680000, 256000, 42000, 68000, 54000]\n",
    "}\n",
    "\n",
    "df_sales = pd.DataFrame(sales_data)\n",
    "df_sales_pivot = df_sales.pivot(values = \"Total_Sales\",index = \"Month\", columns = \"Category_Name\")\n",
    "print(df_sales_pivot)"
   ]
  }
 ],
 "metadata": {
  "kernelspec": {
   "display_name": "base",
   "language": "python",
   "name": "python3"
  },
  "language_info": {
   "codemirror_mode": {
    "name": "ipython",
    "version": 3
   },
   "file_extension": ".py",
   "mimetype": "text/x-python",
   "name": "python",
   "nbconvert_exporter": "python",
   "pygments_lexer": "ipython3",
   "version": "3.11.7"
  }
 },
 "nbformat": 4,
 "nbformat_minor": 5
}
