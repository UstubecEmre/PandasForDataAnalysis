version https://git-lfs.github.com/spec/v1
oid sha256:15d15e7cc61bdeea18b7f6b60d756faadd20b489bd80570cafdabb8846747ee0
size 26112
